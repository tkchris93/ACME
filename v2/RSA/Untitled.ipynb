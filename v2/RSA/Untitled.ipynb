{
 "cells": [
  {
   "cell_type": "code",
   "execution_count": 4,
   "metadata": {
    "collapsed": false
   },
   "outputs": [],
   "source": [
    "def EEA(a,b):\n",
    "    s = 0\n",
    "    t = 1\n",
    "    old_s = 1\n",
    "    old_t = 0\n",
    "    r = b\n",
    "    old_r = a\n",
    "    \n",
    "    while r != 0:\n",
    "        quotient = old_r / r\n",
    "        old_r, r = r, (old_r - quotient * r)\n",
    "        old_s, s = s, (old_s - quotient * s)\n",
    "        old_t, t = t, (old_t - quotient * t)\n",
    "    print \"Bézout coefficients:\", old_s, old_t\n",
    "    print \"greatest common divisor:\", old_r\n",
    "    print \"quotients by the gcd:\", t, s"
   ]
  },
  {
   "cell_type": "code",
   "execution_count": 5,
   "metadata": {
    "collapsed": false
   },
   "outputs": [
    {
     "name": "stdout",
     "output_type": "stream",
     "text": [
      "Bézout coefficients: -15 136\n",
      "greatest common divisor: 4\n",
      "quotients by the gcd: -281 31\n"
     ]
    }
   ],
   "source": [
    "EEA(1124,124)\n"
   ]
  },
  {
   "cell_type": "code",
   "execution_count": null,
   "metadata": {
    "collapsed": false
   },
   "outputs": [],
   "source": [
    "\n"
   ]
  },
  {
   "cell_type": "code",
   "execution_count": null,
   "metadata": {
    "collapsed": true
   },
   "outputs": [],
   "source": []
  }
 ],
 "metadata": {
  "kernelspec": {
   "display_name": "Python 2",
   "language": "python",
   "name": "python2"
  },
  "language_info": {
   "codemirror_mode": {
    "name": "ipython",
    "version": 2
   },
   "file_extension": ".py",
   "mimetype": "text/x-python",
   "name": "python",
   "nbconvert_exporter": "python",
   "pygments_lexer": "ipython2",
   "version": "2.7.10"
  }
 },
 "nbformat": 4,
 "nbformat_minor": 0
}
