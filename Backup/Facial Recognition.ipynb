{
 "cells": [
  {
   "cell_type": "code",
   "execution_count": 1,
   "metadata": {
    "collapsed": false
   },
   "outputs": [
    {
     "ename": "ValueError",
     "evalue": "operands could not be broadcast together with shapes (36000,153) (36000,) ",
     "output_type": "error",
     "traceback": [
      "\u001b[1;31m---------------------------------------------------------------------------\u001b[0m",
      "\u001b[1;31mValueError\u001b[0m                                Traceback (most recent call last)",
      "\u001b[1;32m<ipython-input-1-2989a7747104>\u001b[0m in \u001b[0;36m<module>\u001b[1;34m()\u001b[0m\n\u001b[0;32m     58\u001b[0m     \u001b[0mplt\u001b[0m\u001b[1;33m.\u001b[0m\u001b[0mshow\u001b[0m\u001b[1;33m(\u001b[0m\u001b[1;33m)\u001b[0m\u001b[1;33m\u001b[0m\u001b[0m\n\u001b[0;32m     59\u001b[0m \u001b[1;33m\u001b[0m\u001b[0m\n\u001b[1;32m---> 60\u001b[1;33m \u001b[0mfacialRec\u001b[0m \u001b[1;33m=\u001b[0m \u001b[0mFacialRec\u001b[0m\u001b[1;33m(\u001b[0m\u001b[1;34m\"./faces94\"\u001b[0m\u001b[1;33m)\u001b[0m\u001b[1;33m\u001b[0m\u001b[0m\n\u001b[0m\u001b[0;32m     61\u001b[0m \u001b[1;31m#show(facialRec.mu)\u001b[0m\u001b[1;33m\u001b[0m\u001b[1;33m\u001b[0m\u001b[0m\n\u001b[0;32m     62\u001b[0m \u001b[0mshow\u001b[0m\u001b[1;33m(\u001b[0m\u001b[0mfacialRec\u001b[0m\u001b[1;33m.\u001b[0m\u001b[0mFbar\u001b[0m\u001b[1;33m[\u001b[0m\u001b[1;36m0\u001b[0m\u001b[1;33m]\u001b[0m\u001b[1;33m)\u001b[0m\u001b[1;33m\u001b[0m\u001b[0m\n",
      "\u001b[1;32m<ipython-input-1-2989a7747104>\u001b[0m in \u001b[0;36m__init__\u001b[1;34m(self, path)\u001b[0m\n\u001b[0;32m     13\u001b[0m         \u001b[0mself\u001b[0m\u001b[1;33m.\u001b[0m\u001b[0minitFaces\u001b[0m\u001b[1;33m(\u001b[0m\u001b[0mpath\u001b[0m\u001b[1;33m)\u001b[0m\u001b[1;33m\u001b[0m\u001b[0m\n\u001b[0;32m     14\u001b[0m         \u001b[0mself\u001b[0m\u001b[1;33m.\u001b[0m\u001b[0minitMeanImage\u001b[0m\u001b[1;33m(\u001b[0m\u001b[1;33m)\u001b[0m\u001b[1;33m\u001b[0m\u001b[0m\n\u001b[1;32m---> 15\u001b[1;33m         \u001b[0mself\u001b[0m\u001b[1;33m.\u001b[0m\u001b[0minitDifferences\u001b[0m\u001b[1;33m(\u001b[0m\u001b[1;33m)\u001b[0m\u001b[1;33m\u001b[0m\u001b[0m\n\u001b[0m\u001b[0;32m     16\u001b[0m         \u001b[0mself\u001b[0m\u001b[1;33m.\u001b[0m\u001b[0minitEigenfaces\u001b[0m\u001b[1;33m(\u001b[0m\u001b[1;33m)\u001b[0m\u001b[1;33m\u001b[0m\u001b[0m\n\u001b[0;32m     17\u001b[0m     \u001b[1;32mdef\u001b[0m \u001b[0minitFaces\u001b[0m\u001b[1;33m(\u001b[0m\u001b[0mself\u001b[0m\u001b[1;33m,\u001b[0m \u001b[0mpath\u001b[0m\u001b[1;33m)\u001b[0m\u001b[1;33m:\u001b[0m\u001b[1;33m\u001b[0m\u001b[0m\n",
      "\u001b[1;32m<ipython-input-1-2989a7747104>\u001b[0m in \u001b[0;36minitDifferences\u001b[1;34m(self)\u001b[0m\n\u001b[0;32m     22\u001b[0m         \u001b[1;32mpass\u001b[0m\u001b[1;33m\u001b[0m\u001b[0m\n\u001b[0;32m     23\u001b[0m     \u001b[1;32mdef\u001b[0m \u001b[0minitDifferences\u001b[0m\u001b[1;33m(\u001b[0m\u001b[0mself\u001b[0m\u001b[1;33m)\u001b[0m\u001b[1;33m:\u001b[0m\u001b[1;33m\u001b[0m\u001b[0m\n\u001b[1;32m---> 24\u001b[1;33m         \u001b[0mself\u001b[0m\u001b[1;33m.\u001b[0m\u001b[0mFbar\u001b[0m \u001b[1;33m=\u001b[0m \u001b[0mself\u001b[0m\u001b[1;33m.\u001b[0m\u001b[0mF\u001b[0m \u001b[1;33m-\u001b[0m \u001b[0mself\u001b[0m\u001b[1;33m.\u001b[0m\u001b[0mmu\u001b[0m\u001b[1;33m\u001b[0m\u001b[0m\n\u001b[0m\u001b[0;32m     25\u001b[0m         \u001b[1;32mpass\u001b[0m\u001b[1;33m\u001b[0m\u001b[0m\n\u001b[0;32m     26\u001b[0m     \u001b[1;32mdef\u001b[0m \u001b[0minitEigenfaces\u001b[0m\u001b[1;33m(\u001b[0m\u001b[0mself\u001b[0m\u001b[1;33m)\u001b[0m\u001b[1;33m:\u001b[0m\u001b[1;33m\u001b[0m\u001b[0m\n",
      "\u001b[1;31mValueError\u001b[0m: operands could not be broadcast together with shapes (36000,153) (36000,) "
     ]
    }
   ],
   "source": [
    "import numpy as np\n",
    "from scipy import linalg as la\n",
    "from os import walk\n",
    "from scipy.ndimage import imread\n",
    "from matplotlib import pyplot as plt\n",
    "import matplotlib.cm as cm\n",
    "from random import sample\n",
    "class FacialRec:\n",
    "    ##########Members##########\n",
    "    # F, mu, Fbar, and U\n",
    "    ###########################\n",
    "    def __init__(self,path):\n",
    "        self.initFaces(path)\n",
    "        self.initMeanImage()\n",
    "        self.initDifferences()\n",
    "        self.initEigenfaces()\n",
    "    def initFaces(self, path):\n",
    "        self.F = getFaces(path)\n",
    "    def initMeanImage(self):\n",
    "        # Compute the mean face of the images in self.F\n",
    "        self.mu = np.mean(self.F, axis=1)\n",
    "        pass\n",
    "    def initDifferences(self):\n",
    "        self.Fbar = self.F - self.mu\n",
    "        pass\n",
    "    def initEigenfaces(self):\n",
    "        pass\n",
    "    def project(self, s):\n",
    "        pass\n",
    "    def findNearest(self, image):\n",
    "        pass\n",
    "    \n",
    "def getFaces(path=\"./faces94\"):\n",
    "    \"\"\"\n",
    "    Traverse the directory specified by `path' and return an array containing\n",
    "    one column vector per subdirectory.\n",
    "    For the faces94 dataset, this gives an array with just one column for each\n",
    "    face in the database. Each column corresponds to a flattened grayscale image.\n",
    "    \"\"\"\n",
    "    # Traverse the directory and get one image per subdirectory\n",
    "    faces = []\n",
    "    for (dirpath, dirnames, filenames) in walk(path):\n",
    "        for f in filenames:\n",
    "            if f[-3:]==\"jpg\": # only get jpg images\n",
    "                # load image, convert to grayscale, flatten into vector\n",
    "                face = imread(dirpath+\"/\"+f).mean(axis=2).ravel()\n",
    "                faces.append(face)\n",
    "                break\n",
    "    # put all the face vectors column-wise into a matrix\n",
    "    F = np.array(faces).T\n",
    "    return F\n",
    "\n",
    "def show(im, w=200, h=180):\n",
    "    \"\"\"\n",
    "    Plot the flattened grayscale image `im' of width `w' and height `h'\n",
    "    \"\"\"\n",
    "    plt.imshow(im.reshape((w,h)), cmap=cm.Greys_r)\n",
    "    plt.show()\n",
    "\n",
    "facialRec = FacialRec(\"./faces94\")        \n",
    "#show(facialRec.mu)\n",
    "show(facialRec.Fbar[0])"
   ]
  },
  {
   "cell_type": "code",
   "execution_count": 2,
   "metadata": {
    "collapsed": false
   },
   "outputs": [],
   "source": [
    "import numpy as np\n",
    "from os import walk\n",
    "from scipy.ndimage import imread\n",
    "from matplotlib import pyplot as plt\n",
    "import matplotlib.cm as cm\n",
    "\n",
    "# these are the dimensions of the images\n",
    "w = 200\n",
    "h = 180\n",
    "\n",
    "# traverse the directory, get one image per subdirectory\n",
    "path = \"./faces94\"\n",
    "faces = []\n",
    "for (dirpath, dirnames, filenames) in walk(path):\n",
    "    for f in filenames:\n",
    "        if f[-3:]==\"jpg\": # only get jpg images\n",
    "            # load image, convert to grayscale, flatten into vector\n",
    "            face = imread(dirpath+\"/\"+f).mean(axis=2).ravel()\n",
    "            faces.append(face)\n",
    "            break\n",
    "# put all the face vectors column-wise into a matrix\n",
    "F = np.array(faces).T"
   ]
  },
  {
   "cell_type": "code",
   "execution_count": 3,
   "metadata": {
    "collapsed": false
   },
   "outputs": [],
   "source": [
    "#Problem 2\n",
    "mu = np.mean(F, axis=1)\n",
    "\n",
    "def show(im, w=200, h=180):\n",
    "    \"\"\"\n",
    "    Plot the w by h image whose pixel values are given by the array im.\n",
    "\n",
    "    \"\"\"\n",
    "    plt.imshow(im.reshape((w,h)), cmap=cm.Greys_r)\n",
    "    plt.show()\n",
    "    \n",
    "def show2(im1, im2, w=200, h=180):\n",
    "    \"\"\"\n",
    "    Convenience function for plotting two flattened grayscale images of\n",
    "    the specified width and height side by side\n",
    "    \"\"\"\n",
    "    plt.subplot(121)\n",
    "    plt.imshow(im1.reshape((w,h)), cmap=cm.Greys_r)\n",
    "    plt.subplot(122)\n",
    "    plt.imshow(im2.reshape((w,h)), cmap=cm.Greys_r)\n",
    "    plt.show()\n",
    "    \n",
    "\n",
    "# given that you have calculated the mean face mu, show it\n",
    "show(mu)\n"
   ]
  },
  {
   "cell_type": "code",
   "execution_count": 11,
   "metadata": {
    "collapsed": false
   },
   "outputs": [],
   "source": [
    "#Problem 3\n",
    "A = F - mu.reshape((len(mu), 1))\n",
    "show(A[:,0])"
   ]
  },
  {
   "cell_type": "code",
   "execution_count": 72,
   "metadata": {
    "collapsed": true
   },
   "outputs": [],
   "source": [
    "#Problem 4\n",
    "U,Sig,Vh = la.svd(A, full_matrices=False)\n",
    "show(U[:,0])"
   ]
  },
  {
   "cell_type": "code",
   "execution_count": 85,
   "metadata": {
    "collapsed": true
   },
   "outputs": [],
   "source": [
    "#Problem 5\n",
    "def nEigenFaces(U,A,n):\n",
    "    '''\n",
    "    U - np.ndarray - The U matrix from the SVD\n",
    "    A - np.ndarray - mean-shifted matrix of faces\n",
    "    n - integer - rank n\n",
    "    \n",
    "    returns:\n",
    "    Un\n",
    "    An\n",
    "    '''\n",
    "    \n",
    "    Un = U[:,:n]\n",
    "    An = Un.T.dot(A)\n",
    "    \n",
    "    return Un,An"
   ]
  },
  {
   "cell_type": "code",
   "execution_count": 107,
   "metadata": {
    "collapsed": false
   },
   "outputs": [],
   "source": [
    "#Problem 6\n",
    "\n",
    "def findNearest(M,x):\n",
    "    return np.argmin(np.linalg.norm(M-x.reshape((len(x),1)), axis=0, ord=2))"
   ]
  },
  {
   "cell_type": "code",
   "execution_count": 130,
   "metadata": {
    "collapsed": false
   },
   "outputs": [],
   "source": [
    "#Problem 7\n",
    "\n",
    "n_tests = 10\n",
    "test_files = []\n",
    "for (dirpath, dirnames, filenames) in walk(path):\n",
    "    for f in filenames:\n",
    "        if f[-3:]==\"jpg\": # only get jpg images\n",
    "            test_files.append(dirpath+\"/\"+f)\n",
    "#Get a sample of the images\n",
    "test_files = sample(test_files, n_tests)\n",
    "#Flatten and average the pixel values\n",
    "test_images = np.array([imread(f).mean(axis=2).ravel() for f in test_files]).T\n",
    "\n",
    "\n",
    "for i in xrange(n_tests):\n",
    "    #adjust test_images[i] for findNearest function\n",
    "    g = test_images[:,i] - mu\n",
    "    g_hat = Un.T.dot(g)\n",
    "    \n",
    "    #finding the match\n",
    "    match = findNearest(An, g_hat)\n",
    "    show2(A[:,match], test_images[:,i])"
   ]
  },
  {
   "cell_type": "code",
   "execution_count": 125,
   "metadata": {
    "collapsed": false
   },
   "outputs": [
    {
     "data": {
      "text/plain": [
       "(36000,)"
      ]
     },
     "execution_count": 125,
     "metadata": {},
     "output_type": "execute_result"
    }
   ],
   "source": []
  },
  {
   "cell_type": "code",
   "execution_count": 98,
   "metadata": {
    "collapsed": false
   },
   "outputs": [],
   "source": [
    "\n"
   ]
  },
  {
   "cell_type": "code",
   "execution_count": 8,
   "metadata": {
    "collapsed": false
   },
   "outputs": [],
   "source": [
    "A = np.array([[0,1],[0,1],[0,1],[0,1],[0,1],[0,1],[0,1]])"
   ]
  },
  {
   "cell_type": "code",
   "execution_count": 10,
   "metadata": {
    "collapsed": false
   },
   "outputs": [
    {
     "data": {
      "text/plain": [
       "array([1, 1, 1, 1, 1, 1, 1])"
      ]
     },
     "execution_count": 10,
     "metadata": {},
     "output_type": "execute_result"
    }
   ],
   "source": [
    "A[:,1]"
   ]
  },
  {
   "cell_type": "code",
   "execution_count": 73,
   "metadata": {
    "collapsed": true
   },
   "outputs": [],
   "source": []
  },
  {
   "cell_type": "code",
   "execution_count": 103,
   "metadata": {
    "collapsed": false
   },
   "outputs": [],
   "source": []
  },
  {
   "cell_type": "code",
   "execution_count": 105,
   "metadata": {
    "collapsed": true
   },
   "outputs": [],
   "source": []
  },
  {
   "cell_type": "code",
   "execution_count": 106,
   "metadata": {
    "collapsed": false
   },
   "outputs": [
    {
     "data": {
      "text/plain": [
       "array([ 2.,  2.,  2.])"
      ]
     },
     "execution_count": 106,
     "metadata": {},
     "output_type": "execute_result"
    }
   ],
   "source": []
  },
  {
   "cell_type": "code",
   "execution_count": null,
   "metadata": {
    "collapsed": true
   },
   "outputs": [],
   "source": []
  }
 ],
 "metadata": {
  "kernelspec": {
   "display_name": "Python 2",
   "language": "python",
   "name": "python2"
  },
  "language_info": {
   "codemirror_mode": {
    "name": "ipython",
    "version": 2
   },
   "file_extension": ".py",
   "mimetype": "text/x-python",
   "name": "python",
   "nbconvert_exporter": "python",
   "pygments_lexer": "ipython2",
   "version": "2.7.9"
  }
 },
 "nbformat": 4,
 "nbformat_minor": 0
}
