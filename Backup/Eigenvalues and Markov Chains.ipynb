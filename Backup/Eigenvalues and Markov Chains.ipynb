{
 "cells": [
  {
   "cell_type": "code",
   "execution_count": 1,
   "metadata": {
    "collapsed": false
   },
   "outputs": [],
   "source": [
    "import numpy as np"
   ]
  },
  {
   "cell_type": "code",
   "execution_count": 2,
   "metadata": {
    "collapsed": false
   },
   "outputs": [],
   "source": [
    "from scipy import linalg as la"
   ]
  },
  {
   "cell_type": "code",
   "execution_count": 3,
   "metadata": {
    "collapsed": false
   },
   "outputs": [],
   "source": [
    "#Problem 1\n",
    "def power_method(A,tol):\n",
    "    size = A.shape[0]\n",
    "    random_vector = []\n",
    "    for i in xrange(size):\n",
    "        random_vector.append(np.random.randint(10))\n",
    "    norm = la.norm(random_vector)\n",
    "    random_vector = np.array(random_vector, dtype = np.float)\n",
    "    random_vector /= norm\n",
    "    \n",
    "    while True:\n",
    "        product = np.dot(A,random_vector)\n",
    "        new_vector = product/la.norm(product)\n",
    "        if (la.norm(new_vector - random_vector) < tol):\n",
    "            break  \n",
    "        random_vector = new_vector\n",
    "    \n",
    "    eigenvector = random_vector\n",
    "    eigenvalue = np.inner(np.dot(A,eigenvector),eigenvector)/la.norm(eigenvector)\n",
    "    return eigenvalue, eigenvector"
   ]
  },
  {
   "cell_type": "code",
   "execution_count": 34,
   "metadata": {
    "collapsed": false
   },
   "outputs": [],
   "source": [
    "from numpy.lib import scimath as sm\n",
    "\n",
    "#Problem 2\n",
    "\n",
    "def QR_algorithm(A,niter,tol):\n",
    "    H = la.hessenberg(A)\n",
    "    for i in xrange(niter):\n",
    "        Q,R = la.qr(H)\n",
    "        H = np.dot(R,Q)\n",
    "    S = H\n",
    "    eigenvalues = []\n",
    "    i = 0\n",
    "    while i < S.shape[0]:\n",
    "        if i == S.shape[0]-1:\n",
    "            #S[i,i] is an eigenvalue\n",
    "            eigenvalues.append(S[i,i])\n",
    "        elif S[i+1,i] < tol:\n",
    "            #S[i,i] is an eigenvalue\n",
    "            eigenvalues.append(S[i,i])\n",
    "        else:\n",
    "            #crazy complex business\n",
    "            a = S[i,i]\n",
    "            b = S[i,i+1]\n",
    "            c = S[i+1,i]\n",
    "            d = S[i+1,i+1]\n",
    "            B = -1*(a+d)\n",
    "            C = a*d-b*c\n",
    "            eigen_plus = (-B + sm.sqrt(B**2 - 4*C))/2\n",
    "            eigen_minus = (-B - sm.sqrt(B**2 - 4*C))/2\n",
    "            \n",
    "            eigenvalues.append(eigen_plus)\n",
    "            eigenvalues.append(eigen_minus)\n",
    "            i+=1\n",
    "        i+=1\n",
    "    print \"eigenvalues:\"\n",
    "    print eigenvalues"
   ]
  },
  {
   "cell_type": "code",
   "execution_count": 20,
   "metadata": {
    "collapsed": false
   },
   "outputs": [
    {
     "name": "stdout",
     "output_type": "stream",
     "text": [
      "[ 0.671875  0.328125]\n"
     ]
    },
    {
     "data": {
      "text/plain": [
       "True"
      ]
     },
     "execution_count": 20,
     "metadata": {},
     "output_type": "execute_result"
    }
   ],
   "source": [
    "#Problem 3\n",
    "import numpy as np\n",
    "A = np.array([[.75,.5],[.25,.5]])\n",
    "evals, evecs = la.eig(A)\n",
    "\n",
    "A_3 = np.linalg.matrix_power(A,3)\n",
    "#print A_3.dot([1,0])\n",
    "\n",
    "##stable fixed point, x\n",
    "x = evecs[:,0]\n",
    "x = x/sum(x)\n",
    "#print x\n",
    "\n",
    "##stable fixed point verification\n",
    "np.allclose(A.dot(x), x)\n",
    "\n",
    "# Answers\n",
    "# 1. 67.1875%\n",
    "# 2. 66.6667%"
   ]
  },
  {
   "cell_type": "code",
   "execution_count": 6,
   "metadata": {
    "collapsed": false
   },
   "outputs": [],
   "source": []
  },
  {
   "cell_type": "code",
   "execution_count": 9,
   "metadata": {
    "collapsed": false
   },
   "outputs": [],
   "source": []
  },
  {
   "cell_type": "code",
   "execution_count": null,
   "metadata": {
    "collapsed": false
   },
   "outputs": [],
   "source": []
  }
 ],
 "metadata": {
  "kernelspec": {
   "display_name": "Python 2",
   "language": "python",
   "name": "python2"
  },
  "language_info": {
   "codemirror_mode": {
    "name": "ipython",
    "version": 2
   },
   "file_extension": ".py",
   "mimetype": "text/x-python",
   "name": "python",
   "nbconvert_exporter": "python",
   "pygments_lexer": "ipython2",
   "version": "2.7.9"
  }
 },
 "nbformat": 4,
 "nbformat_minor": 0
}
