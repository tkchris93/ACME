{
 "cells": [
  {
   "cell_type": "code",
   "execution_count": 12,
   "metadata": {
    "collapsed": true
   },
   "outputs": [],
   "source": [
    "import numpy as np\n",
    "from scipy import linalg as la\n",
    "from matplotlib import pyplot as plt\n",
    "from matplotlib import cm"
   ]
  },
  {
   "cell_type": "code",
   "execution_count": 5,
   "metadata": {
    "collapsed": false
   },
   "outputs": [],
   "source": [
    "#Problem 1 \n",
    "def problem1(A, k):\n",
    "    # A - np.array of size m x n\n",
    "    # k - integer\n",
    "    U,s,Vt = la.svd(A, full_matrices=False)\n",
    "    #print U\n",
    "    #print s\n",
    "    #print Vt\n",
    "    if (k >= len(s)):\n",
    "        #pass\n",
    "        print \"do something special here\" \n",
    "    else:\n",
    "        difference = len(s) - k\n",
    "        U = U[:,:-difference]\n",
    "        S = np.diag(s[:-difference])\n",
    "        Vt = Vt[:-(difference),:]\n",
    "        #print (U.nbytes + S.nbytes + Vt.nbytes) - A.nbytes\n",
    "        A_hat = U.dot(S).dot(Vt)\n",
    "        #print la.norm(A - A_hat, ord=2)\n",
    "        return A_hat\n",
    "    "
   ]
  },
  {
   "cell_type": "code",
   "execution_count": 88,
   "metadata": {
    "collapsed": true
   },
   "outputs": [],
   "source": []
  },
  {
   "cell_type": "code",
   "execution_count": 15,
   "metadata": {
    "collapsed": true
   },
   "outputs": [],
   "source": [
    "#Problem 2\n",
    "def problem2(A, e):\n",
    "    '''\n",
    "    U,s,Vt = la.svd(A, full_matrices=False)\n",
    "    S = np.diag(s)\n",
    "    i = 1\n",
    "    if s[-1] > e:\n",
    "        best = len(s) - 1\n",
    "    else: \n",
    "        while s[-i] < e:\n",
    "            if s[-(i+1)] < e:\n",
    "                i += 1\n",
    "            elif s[-(i+1)] > e:\n",
    "                best = len(s) - i\n",
    "                break\n",
    "    n = best\n",
    "    u1, s1, vt1 = U[:,0:n], S[0:n,0:n], Vt[0:n,:]\n",
    "    print (u1.nbytes + np.diag(s1).nbytes + vt1.nbytes) - A.nbytes\n",
    "    return u1.dot(s1).dot(vt1) \n",
    "    '''\n",
    "    U,s,Vt = svd(A, full_matrices=False)\n",
    "    k = np.where(s<e)[0][0]\n",
    "    S = np.diag(s[:k])\n",
    "    return U[:,:k].dot(S).dot(Vt[:k,:])"
   ]
  },
  {
   "cell_type": "code",
   "execution_count": 10,
   "metadata": {
    "collapsed": false
   },
   "outputs": [],
   "source": [
    "A = np.array([[1,1,3,4], [5,4,3,7], [9,10,10,12], [13,14,15,16],\n",
    "[17,18,19,20]])"
   ]
  },
  {
   "cell_type": "code",
   "execution_count": 45,
   "metadata": {
    "collapsed": false
   },
   "outputs": [
    {
     "data": {
      "text/plain": [
       "(400, 388)"
      ]
     },
     "execution_count": 45,
     "metadata": {},
     "output_type": "execute_result"
    }
   ],
   "source": [
    "img_red.shape"
   ]
  },
  {
   "cell_type": "code",
   "execution_count": 44,
   "metadata": {
    "collapsed": false
   },
   "outputs": [
    {
     "name": "stdout",
     "output_type": "stream",
     "text": [
      "33\n",
      "33\n",
      "33\n",
      "33\n",
      "1 loops, best of 3: 603 ms per loop\n"
     ]
    }
   ],
   "source": [
    "%timeit img_red_compressed = problem2(img_red, 5)"
   ]
  },
  {
   "cell_type": "code",
   "execution_count": 19,
   "metadata": {
    "collapsed": false
   },
   "outputs": [
    {
     "data": {
      "text/plain": [
       "array([[  0.9427572 ,   1.06132868,   2.97751578,   4.01390747],\n",
       "       [  4.91861722,   4.08719173,   2.96803391,   7.01977242],\n",
       "       [  9.29704956,   9.68174761,  10.11667717,  11.92783009],\n",
       "       [ 12.99779036,  14.00236736,  14.99913208,  16.00053685],\n",
       "       [ 16.8648845 ,  18.14475978,  18.94692841,  20.03282709]])"
      ]
     },
     "execution_count": 19,
     "metadata": {},
     "output_type": "execute_result"
    }
   ],
   "source": [
    "plt.imshow(img_red)"
   ]
  },
  {
   "cell_type": "code",
   "execution_count": 13,
   "metadata": {
    "collapsed": false
   },
   "outputs": [],
   "source": [
    "U1 = U[:,0]\n",
    "Vt1H = (Vt[:,0]).T"
   ]
  },
  {
   "cell_type": "code",
   "execution_count": 10,
   "metadata": {
    "collapsed": false
   },
   "outputs": [
    {
     "data": {
      "text/plain": [
       "(5, 4)"
      ]
     },
     "execution_count": 10,
     "metadata": {},
     "output_type": "execute_result"
    }
   ],
   "source": [
    "U.shape\n"
   ]
  },
  {
   "cell_type": "code",
   "execution_count": 20,
   "metadata": {
    "collapsed": true
   },
   "outputs": [],
   "source": [
    "from matplotlib import pyplot as plt\n"
   ]
  },
  {
   "cell_type": "code",
   "execution_count": 21,
   "metadata": {
    "collapsed": true
   },
   "outputs": [],
   "source": [
    "img_red = plt.imread(\"hubble_image.jpg\")[:,:,0].astype(float)"
   ]
  },
  {
   "cell_type": "code",
   "execution_count": 22,
   "metadata": {
    "collapsed": false
   },
   "outputs": [
    {
     "data": {
      "text/plain": [
       "array([[ 77.,  83.,  87., ...,  56.,  61.,  64.],\n",
       "       [ 81.,  84.,  87., ...,  53.,  57.,  60.],\n",
       "       [ 86.,  86.,  86., ...,  52.,  55.,  58.],\n",
       "       ..., \n",
       "       [ 38.,  20.,  29., ...,  57.,  60.,  63.],\n",
       "       [ 18.,  18.,  27., ...,  57.,  58.,  59.],\n",
       "       [ 13.,  23.,  24., ...,  58.,  56.,  54.]])"
      ]
     },
     "execution_count": 22,
     "metadata": {},
     "output_type": "execute_result"
    }
   ],
   "source": [
    "img_red\n"
   ]
  },
  {
   "cell_type": "code",
   "execution_count": 23,
   "metadata": {
    "collapsed": true
   },
   "outputs": [],
   "source": [
    "plt.imshow(img_red)\n",
    "plt.show()"
   ]
  },
  {
   "cell_type": "code",
   "execution_count": 40,
   "metadata": {
    "collapsed": false
   },
   "outputs": [
    {
     "name": "stdout",
     "output_type": "stream",
     "text": [
      "1 loops, best of 3: 496 ms per loop\n"
     ]
    }
   ],
   "source": [
    "%timeit U,s,Vt = la.svd(img_red,full_matrices=False)"
   ]
  },
  {
   "cell_type": "code",
   "execution_count": 25,
   "metadata": {
    "collapsed": true
   },
   "outputs": [],
   "source": [
    "n = 50\n",
    "u1, s1, vt1 = U[:,0:n], S[0:n,0:n], Vt[0:n,:]\n",
    "img_compressed = u1.dot(s1).dot(vt1)"
   ]
  },
  {
   "cell_type": "code",
   "execution_count": 27,
   "metadata": {
    "collapsed": false
   },
   "outputs": [
    {
     "data": {
      "text/plain": [
       "-926000"
      ]
     },
     "execution_count": 27,
     "metadata": {},
     "output_type": "execute_result"
    }
   ],
   "source": [
    "(u1.nbytes + np.diag(s1).nbytes + vt1.nbytes) - img_red.nbytes"
   ]
  },
  {
   "cell_type": "code",
   "execution_count": 32,
   "metadata": {
    "collapsed": true
   },
   "outputs": [],
   "source": [
    "np.where?\n"
   ]
  },
  {
   "cell_type": "code",
   "execution_count": 150,
   "metadata": {
    "collapsed": true
   },
   "outputs": [],
   "source": [
    "U,s,Vt = la.svd(img_red, full_matrices=False)"
   ]
  },
  {
   "cell_type": "code",
   "execution_count": 158,
   "metadata": {
    "collapsed": false
   },
   "outputs": [
    {
     "name": "stdout",
     "output_type": "stream",
     "text": [
      "49.0292608929\n"
     ]
    }
   ],
   "source": [
    "np.where(s<50)[0][0]\n",
    "print s[260]"
   ]
  },
  {
   "cell_type": "code",
   "execution_count": 36,
   "metadata": {
    "collapsed": false
   },
   "outputs": [
    {
     "name": "stdout",
     "output_type": "stream",
     "text": [
      "33\n"
     ]
    }
   ],
   "source": [
    "e = 5\n",
    "i = 1\n",
    "if s[-1] > e:\n",
    "    best = len(s) - 1\n",
    "else: \n",
    "    while s[-i] < e:\n",
    "        if s[-(i+1)] < e:\n",
    "            i += 1\n",
    "        elif s[-(i+1)] > e:\n",
    "            best = len(s) - i\n",
    "            print i\n",
    "            break"
   ]
  },
  {
   "cell_type": "code",
   "execution_count": 113,
   "metadata": {
    "collapsed": false
   },
   "outputs": [
    {
     "name": "stdout",
     "output_type": "stream",
     "text": [
      "-269552\n"
     ]
    }
   ],
   "source": [
    "plt.subplot(2, 1, 1)\n",
    "plt.imshow(img_red)\n",
    "plt.subplot(2,1,2)\n",
    "plt.imshow(problem2(img_red, 200))\n",
    "plt.show()\n"
   ]
  },
  {
   "cell_type": "code",
   "execution_count": 17,
   "metadata": {
    "collapsed": false
   },
   "outputs": [
    {
     "name": "stdout",
     "output_type": "stream",
     "text": [
      "2289.50409478\n"
     ]
    }
   ],
   "source": [
    "img_red = plt.imread(\"hubble_image.jpg\")[:,:,0].astype(float)\n",
    "img_green = plt.imread(\"hubble_image.jpg\")[:,:,1].astype(float)\n",
    "img_blue = plt.imread(\"hubble_image.jpg\")[:,:,2].astype(float)\n",
    "\n",
    "original_img = plt.imread(\"hubble_image.jpg\").astype(float)\n",
    "\n",
    "e = 200\n",
    "\n",
    "adjust = np.zeros(original_img.shape) + 256\n",
    "\n",
    "img = np.copy(original_img)\n",
    "img[:,:,0] = problem2(img_red, e)\n",
    "img[:,:,1] = problem2(img_green, e)\n",
    "img[:,:,2] = problem2(img_blue, e)\n",
    "\n",
    "\n",
    "\n",
    "img = np.array(img).astype(int)\n",
    "\n",
    "plt.subplot(1,2,1)\n",
    "plt.imshow(adjust - original_img)\n",
    "\n",
    "plt.subplot(1,2,2)\n",
    "plt.imshow(adjust - img)\n",
    "\n",
    "print norm(original_img - img)\n",
    "\n",
    "plt.show()"
   ]
  },
  {
   "cell_type": "code",
   "execution_count": 166,
   "metadata": {
    "collapsed": false
   },
   "outputs": [],
   "source": [
    "plt.imshow(img[330:370,50:100,:])\n",
    "plt.show()"
   ]
  },
  {
   "cell_type": "code",
   "execution_count": 112,
   "metadata": {
    "collapsed": false
   },
   "outputs": [],
   "source": [
    "plt.imshow(img, cmap='hot_r')\n",
    "plt.show()"
   ]
  },
  {
   "cell_type": "code",
   "execution_count": 100,
   "metadata": {
    "collapsed": true
   },
   "outputs": [],
   "source": [
    "plt.imshow(img)\n",
    "plt.savefig(\"output.jpg\")"
   ]
  },
  {
   "cell_type": "code",
   "execution_count": 77,
   "metadata": {
    "collapsed": false
   },
   "outputs": [
    {
     "ename": "TypeError",
     "evalue": "'module' object has no attribute '__getitem__'",
     "output_type": "error",
     "traceback": [
      "\u001b[1;31m---------------------------------------------------------------------------\u001b[0m",
      "\u001b[1;31mTypeError\u001b[0m                                 Traceback (most recent call last)",
      "\u001b[1;32m<ipython-input-77-dbfd127fcf57>\u001b[0m in \u001b[0;36m<module>\u001b[1;34m()\u001b[0m\n\u001b[1;32m----> 1\u001b[1;33m \u001b[0mcolormap_r\u001b[0m \u001b[1;33m=\u001b[0m \u001b[0mmatplotlib\u001b[0m\u001b[1;33m.\u001b[0m\u001b[0mcolors\u001b[0m\u001b[1;33m.\u001b[0m\u001b[0mListedColormap\u001b[0m\u001b[1;33m(\u001b[0m\u001b[0mmatplotlib\u001b[0m\u001b[1;33m.\u001b[0m\u001b[0mcm\u001b[0m\u001b[1;33m.\u001b[0m\u001b[0mcolors\u001b[0m\u001b[1;33m[\u001b[0m\u001b[1;33m:\u001b[0m\u001b[1;33m:\u001b[0m\u001b[1;33m-\u001b[0m\u001b[1;36m1\u001b[0m\u001b[1;33m]\u001b[0m\u001b[1;33m)\u001b[0m\u001b[1;33m\u001b[0m\u001b[0m\n\u001b[0m",
      "\u001b[1;31mTypeError\u001b[0m: 'module' object has no attribute '__getitem__'"
     ]
    }
   ],
   "source": [
    "colormap_r = matplotlib.colors.ListedColormap(matplotlib.cm.colors[::-1])"
   ]
  },
  {
   "cell_type": "code",
   "execution_count": 79,
   "metadata": {
    "collapsed": false
   },
   "outputs": [],
   "source": [
    "matplotlib.cm.h"
   ]
  },
  {
   "cell_type": "code",
   "execution_count": 81,
   "metadata": {
    "collapsed": false
   },
   "outputs": [],
   "source": [
    "plt.imshow?"
   ]
  },
  {
   "cell_type": "code",
   "execution_count": 132,
   "metadata": {
    "collapsed": false
   },
   "outputs": [
    {
     "name": "stdout",
     "output_type": "stream",
     "text": [
      "-531200\n"
     ]
    }
   ],
   "source": [
    "plt.imshow(problem1(img_red, 100))\n",
    "plt.show()"
   ]
  },
  {
   "cell_type": "code",
   "execution_count": 127,
   "metadata": {
    "collapsed": true
   },
   "outputs": [],
   "source": [
    "plt.show()"
   ]
  },
  {
   "cell_type": "code",
   "execution_count": 126,
   "metadata": {
    "collapsed": false
   },
   "outputs": [],
   "source": [
    "plt.set_cmap('gray')"
   ]
  },
  {
   "cell_type": "code",
   "execution_count": 201,
   "metadata": {
    "collapsed": false
   },
   "outputs": [
    {
     "data": {
      "text/plain": [
       "(array([ 1,  2,  2,  2,  2,  4,  4,  4,  6,  6,  6,  6,  6,  6,  7,  7,  7,\n",
       "         7,  7,  8,  8,  8,  9,  9,  9,  9,  9,  9,  9, 10, 11, 11, 11, 11,\n",
       "        12, 12, 12, 12, 12, 12, 12, 12, 12, 13, 13, 13, 13, 14, 14, 14, 15,\n",
       "        15, 15, 15, 15, 15, 15, 15, 16, 17, 17, 18, 18, 18, 18, 19, 19, 20,\n",
       "        20, 20, 21, 21, 21, 21, 22, 23, 24, 29, 30, 31, 38, 39]),\n",
       " array([13, 11, 12, 20, 21,  2,  2, 30,  9, 11, 12, 19, 36, 46,  5, 24, 27,\n",
       "        38, 48, 34, 37, 49,  8, 16, 22, 28, 33, 35, 40, 33, 24, 33, 34, 38,\n",
       "         5, 12, 24, 26, 27, 29, 33, 38, 39, 27, 28, 31, 45, 29, 30, 33, 24,\n",
       "        25, 26, 30, 32, 36, 37, 40, 40, 34, 40, 26, 27, 32, 34, 27, 35, 21,\n",
       "        27, 32, 15, 18, 30, 31, 13,  2, 22,  3, 17, 33,  6,  0]),\n",
       " array([1, 0, 0, 0, 0, 0, 1, 0, 1, 1, 0, 0, 0, 0, 1, 1, 0, 0, 0, 0, 0, 0, 0,\n",
       "        0, 1, 0, 0, 0, 0, 0, 0, 0, 0, 0, 1, 0, 1, 0, 0, 0, 0, 0, 0, 0, 1, 0,\n",
       "        0, 1, 0, 0, 0, 1, 0, 0, 0, 0, 0, 0, 0, 0, 0, 0, 0, 0, 0, 0, 0, 0, 0,\n",
       "        0, 0, 0, 0, 0, 0, 1, 1, 1, 1, 1, 1, 2]))"
      ]
     },
     "execution_count": 201,
     "metadata": {},
     "output_type": "execute_result"
    }
   ],
   "source": [
    "np.where(img[330:370,50:100,:]==0)"
   ]
  },
  {
   "cell_type": "code",
   "execution_count": 196,
   "metadata": {
    "collapsed": false
   },
   "outputs": [
    {
     "name": "stdout",
     "output_type": "stream",
     "text": [
      "459\n"
     ]
    }
   ],
   "source": [
    "a = np.where(img>255)\n",
    "counter = 0\n",
    "for i in xrange(len(a[0])):\n",
    "    if img[a[0][i], a[1][i], a[2][i]] > 255:\n",
    "        counter += 1\n",
    "        img[a[0][i], a[1][i], a[2][i]] = 255\n",
    "print counter"
   ]
  },
  {
   "cell_type": "code",
   "execution_count": 194,
   "metadata": {
    "collapsed": false
   },
   "outputs": [
    {
     "data": {
      "text/plain": [
       "459"
      ]
     },
     "execution_count": 194,
     "metadata": {},
     "output_type": "execute_result"
    }
   ],
   "source": [
    "len(a[0])"
   ]
  },
  {
   "cell_type": "code",
   "execution_count": 198,
   "metadata": {
    "collapsed": false
   },
   "outputs": [
    {
     "data": {
      "text/plain": [
       "<matplotlib.image.AxesImage at 0x7f2bdf0f9910>"
      ]
     },
     "execution_count": 198,
     "metadata": {},
     "output_type": "execute_result"
    }
   ],
   "source": [
    "plt.imshow(img)"
   ]
  },
  {
   "cell_type": "code",
   "execution_count": 199,
   "metadata": {
    "collapsed": true
   },
   "outputs": [],
   "source": [
    "plt.show()"
   ]
  },
  {
   "cell_type": "code",
   "execution_count": null,
   "metadata": {
    "collapsed": true
   },
   "outputs": [],
   "source": []
  },
  {
   "cell_type": "code",
   "execution_count": 14,
   "metadata": {
    "collapsed": false
   },
   "outputs": [
    {
     "name": "stdout",
     "output_type": "stream",
     "text": [
      "-269552\n"
     ]
    }
   ],
   "source": [
    "plt.imshow(problem2(img_red,200), cmap=cm.gray)\n",
    "plt.show()"
   ]
  },
  {
   "cell_type": "code",
   "execution_count": null,
   "metadata": {
    "collapsed": true
   },
   "outputs": [],
   "source": []
  },
  {
   "cell_type": "code",
   "execution_count": null,
   "metadata": {
    "collapsed": true
   },
   "outputs": [],
   "source": []
  },
  {
   "cell_type": "code",
   "execution_count": null,
   "metadata": {
    "collapsed": true
   },
   "outputs": [],
   "source": []
  },
  {
   "cell_type": "code",
   "execution_count": null,
   "metadata": {
    "collapsed": true
   },
   "outputs": [],
   "source": []
  },
  {
   "cell_type": "code",
   "execution_count": null,
   "metadata": {
    "collapsed": true
   },
   "outputs": [],
   "source": []
  },
  {
   "cell_type": "code",
   "execution_count": 7,
   "metadata": {
    "collapsed": true
   },
   "outputs": [],
   "source": [
    "import numpy as np\n",
    "import scipy as sp\n",
    "import matplotlib.pyplot as plt\n",
    "import scipy.linalg as la\n",
    "from scipy.linalg import svd, norm\n",
    "\n",
    "def svd_approx(A, k):\n",
    "    '''\n",
    "    Calculate the best rank k approximation to A with respect to the induced\n",
    "    2-norm. Use the SVD.\n",
    "    Inputs:\n",
    "        A -- array of shape (m,n)\n",
    "        k -- positive integer\n",
    "    Returns:\n",
    "        Ahat -- best rank k approximation to A obtained via the SVD\n",
    "    '''\n",
    "    #compute the reduced SVD\n",
    "    U,s,Vh = svd(A,full_matrices=False)\n",
    "    \n",
    "    #keep only the first k singular values\n",
    "    S = np.diag(s[:k])\n",
    "    \n",
    "    #reconstruct the best rank k approximation\n",
    "    return U[:,:k].dot(S).dot(Vt[:k,:])\n",
    "    \n",
    "    \n",
    "def lowest_rank_approx(A,e):\n",
    "    '''\n",
    "    Calculate the lowest rank approximation to A that has error stricly less than e.\n",
    "    Inputs:\n",
    "        A -- array of shape (m,n)\n",
    "        e -- positive floating point number\n",
    "    Returns:\n",
    "        Ahat -- the best rank s approximation of A constrained to have error less than e, \n",
    "                where s is as small as possible.\n",
    "    '''\n",
    "    #calculate the reduced SVD\n",
    "    U,s,Vh = svd(A,full_matrices=False)\n",
    "    \n",
    "    #find the index of the first singular value less than e\n",
    "    k = np.where(s<e)[0][0] \n",
    "    \n",
    "    #now recreate the rank k approximation\n",
    "    S = np.diag(s[:k])\n",
    "    return U[:,:k].dot(S).dot(Vt[:k,:])\n",
    "    \n",
    "\n",
    "def readimg(filename, channel=None):\n",
    "    if channel is not None:\n",
    "        return sp.misc.imread(filename)[:,:,channel]\n",
    "    else:\n",
    "        return sp.misc.imread(filename)\n",
    "\n",
    "\n",
    "def compressSVD(filename, rank, random=False, channel=None):\n",
    "    img = plt.imread(filename)\n",
    "\n",
    "    try:\n",
    "        isize = img[:,:,0].shape\n",
    "        colors = [la.svd(img[:,:,i]) for i in range(3)]\n",
    "    except IndexError:\n",
    "        isize = img.shape\n",
    "        plt.gray()\n",
    "        colors = la.svd(img)\n",
    "\n",
    "    plt.ion()\n",
    "    imgc = plt.imshow(img)\n",
    "    newimg = sp.zeros_like(img)\n",
    "\n",
    "    rank = range(1,rank+1)\n",
    "\n",
    "    if random is True:\n",
    "        sp.random.shuffle(rank)\n",
    "\n",
    "    for r in rank:\n",
    "        col_res = hat(colors, r-1, r)\n",
    "        try:\n",
    "            #col_res[0] = sp.where(col_res[0]>255, col_res[0], 255)\n",
    "            #col_res[1] = sp.where(col_res[1]>255, col_res[1], 255)\n",
    "            #col_res[2] = sp.where(col_res[2]>255, col_res[2], 255)\n",
    "\n",
    "            #col_res[0] = sp.where(col_res[0]<0, col_res[0], 0)\n",
    "            #col_res[1] = sp.where(col_res[1]<0, col_res[1], 0)\n",
    "            #col_res[2] = sp.where(col_res[2]<0, col_res[2], 0)\n",
    "            \n",
    "            newimg[:,:,0] += col_res[0]\n",
    "            newimg[:,:,1] += col_res[1]\n",
    "            newimg[:,:,2] += col_res[2]\n",
    "\n",
    "            ## for ch in range(3):\n",
    "            ##     newimg[newimg[:,:,ch]<1]=0\n",
    "            ##     newimg[newimg[:,:,ch]>254]=255\n",
    "                \n",
    "        except IndexError:\n",
    "            newimg += col_res[0]\n",
    "            ## newimg[newimg<1]=0\n",
    "            ## newimg[newimg>254]=255\n",
    "        \n",
    "        imgc.set_data(newimg)\n",
    "        plt.draw()\n",
    "    plt.ioff()\n",
    "    plt.show()\n",
    "\n",
    "    return newimg\n",
    "\n",
    "\n",
    "def hat(color_svd, lrank, urank):\n",
    "    results = []\n",
    "    if len(color_svd) == 3:\n",
    "        r = 3\n",
    "    else:\n",
    "        r = 1\n",
    "        \n",
    "    for c in range(r):\n",
    "        U = color_svd[c][0]\n",
    "        S = sp.diag(color_svd[c][1])\n",
    "        Vt = color_svd[c][2]\n",
    "        results.append(U[:,lrank:urank].dot(S[lrank:urank, lrank:urank]).dot(Vt[lrank:urank,:]))\n",
    "        \n",
    "    return results\n",
    "    \n",
    "def matrix_rank(X):\n",
    "    \"\"\"Compute the rank of a matrix using the SVD\"\"\"\n",
    "    \n",
    "    S = la.svd(X, compute_uv=False)\n",
    "    tol = S.max()*sp.finfo(S.dtype).eps\n",
    "    return sum(S>tol)\n"
   ]
  },
  {
   "cell_type": "code",
   "execution_count": 8,
   "metadata": {
    "collapsed": false
   },
   "outputs": [
    {
     "ename": "IOError",
     "evalue": "[Errno 2] No such file or directory: 'hubble_image.jpg'",
     "output_type": "error",
     "traceback": [
      "\u001b[1;31m---------------------------------------------------------------------------\u001b[0m",
      "\u001b[1;31mIOError\u001b[0m                                   Traceback (most recent call last)",
      "\u001b[1;32m<ipython-input-8-f4deea157efe>\u001b[0m in \u001b[0;36m<module>\u001b[1;34m()\u001b[0m\n\u001b[1;32m----> 1\u001b[1;33m \u001b[0mcompressed_img\u001b[0m \u001b[1;33m=\u001b[0m \u001b[0mcompressSVD\u001b[0m\u001b[1;33m(\u001b[0m\u001b[1;34m\"hubble_image.jpg\"\u001b[0m\u001b[1;33m,\u001b[0m \u001b[1;36m100\u001b[0m\u001b[1;33m)\u001b[0m\u001b[1;33m\u001b[0m\u001b[0m\n\u001b[0m",
      "\u001b[1;32m<ipython-input-7-3e6fab99182b>\u001b[0m in \u001b[0;36mcompressSVD\u001b[1;34m(filename, rank, random, channel)\u001b[0m\n\u001b[0;32m     54\u001b[0m \u001b[1;33m\u001b[0m\u001b[0m\n\u001b[0;32m     55\u001b[0m \u001b[1;32mdef\u001b[0m \u001b[0mcompressSVD\u001b[0m\u001b[1;33m(\u001b[0m\u001b[0mfilename\u001b[0m\u001b[1;33m,\u001b[0m \u001b[0mrank\u001b[0m\u001b[1;33m,\u001b[0m \u001b[0mrandom\u001b[0m\u001b[1;33m=\u001b[0m\u001b[0mFalse\u001b[0m\u001b[1;33m,\u001b[0m \u001b[0mchannel\u001b[0m\u001b[1;33m=\u001b[0m\u001b[0mNone\u001b[0m\u001b[1;33m)\u001b[0m\u001b[1;33m:\u001b[0m\u001b[1;33m\u001b[0m\u001b[0m\n\u001b[1;32m---> 56\u001b[1;33m     \u001b[0mimg\u001b[0m \u001b[1;33m=\u001b[0m \u001b[0mplt\u001b[0m\u001b[1;33m.\u001b[0m\u001b[0mimread\u001b[0m\u001b[1;33m(\u001b[0m\u001b[0mfilename\u001b[0m\u001b[1;33m)\u001b[0m\u001b[1;33m\u001b[0m\u001b[0m\n\u001b[0m\u001b[0;32m     57\u001b[0m \u001b[1;33m\u001b[0m\u001b[0m\n\u001b[0;32m     58\u001b[0m     \u001b[1;32mtry\u001b[0m\u001b[1;33m:\u001b[0m\u001b[1;33m\u001b[0m\u001b[0m\n",
      "\u001b[1;32m/home/tanner/anaconda/lib/python2.7/site-packages/matplotlib/pyplot.pyc\u001b[0m in \u001b[0;36mimread\u001b[1;34m(*args, **kwargs)\u001b[0m\n\u001b[0;32m   2213\u001b[0m \u001b[1;33m@\u001b[0m\u001b[0mdocstring\u001b[0m\u001b[1;33m.\u001b[0m\u001b[0mcopy_dedent\u001b[0m\u001b[1;33m(\u001b[0m\u001b[0m_imread\u001b[0m\u001b[1;33m)\u001b[0m\u001b[1;33m\u001b[0m\u001b[0m\n\u001b[0;32m   2214\u001b[0m \u001b[1;32mdef\u001b[0m \u001b[0mimread\u001b[0m\u001b[1;33m(\u001b[0m\u001b[1;33m*\u001b[0m\u001b[0margs\u001b[0m\u001b[1;33m,\u001b[0m \u001b[1;33m**\u001b[0m\u001b[0mkwargs\u001b[0m\u001b[1;33m)\u001b[0m\u001b[1;33m:\u001b[0m\u001b[1;33m\u001b[0m\u001b[0m\n\u001b[1;32m-> 2215\u001b[1;33m     \u001b[1;32mreturn\u001b[0m \u001b[0m_imread\u001b[0m\u001b[1;33m(\u001b[0m\u001b[1;33m*\u001b[0m\u001b[0margs\u001b[0m\u001b[1;33m,\u001b[0m \u001b[1;33m**\u001b[0m\u001b[0mkwargs\u001b[0m\u001b[1;33m)\u001b[0m\u001b[1;33m\u001b[0m\u001b[0m\n\u001b[0m\u001b[0;32m   2216\u001b[0m \u001b[1;33m\u001b[0m\u001b[0m\n\u001b[0;32m   2217\u001b[0m \u001b[1;33m\u001b[0m\u001b[0m\n",
      "\u001b[1;32m/home/tanner/anaconda/lib/python2.7/site-packages/matplotlib/image.pyc\u001b[0m in \u001b[0;36mimread\u001b[1;34m(fname, format)\u001b[0m\n\u001b[0;32m   1252\u001b[0m \u001b[1;33m\u001b[0m\u001b[0m\n\u001b[0;32m   1253\u001b[0m     \u001b[1;32mif\u001b[0m \u001b[0mext\u001b[0m \u001b[1;32mnot\u001b[0m \u001b[1;32min\u001b[0m \u001b[0mhandlers\u001b[0m\u001b[1;33m:\u001b[0m\u001b[1;33m\u001b[0m\u001b[0m\n\u001b[1;32m-> 1254\u001b[1;33m         \u001b[0mim\u001b[0m \u001b[1;33m=\u001b[0m \u001b[0mpilread\u001b[0m\u001b[1;33m(\u001b[0m\u001b[0mfname\u001b[0m\u001b[1;33m)\u001b[0m\u001b[1;33m\u001b[0m\u001b[0m\n\u001b[0m\u001b[0;32m   1255\u001b[0m         \u001b[1;32mif\u001b[0m \u001b[0mim\u001b[0m \u001b[1;32mis\u001b[0m \u001b[0mNone\u001b[0m\u001b[1;33m:\u001b[0m\u001b[1;33m\u001b[0m\u001b[0m\n\u001b[0;32m   1256\u001b[0m             raise ValueError('Only know how to handle extensions: %s; '\n",
      "\u001b[1;32m/home/tanner/anaconda/lib/python2.7/site-packages/matplotlib/image.pyc\u001b[0m in \u001b[0;36mpilread\u001b[1;34m(fname)\u001b[0m\n\u001b[0;32m   1231\u001b[0m         \u001b[1;32mif\u001b[0m \u001b[0mcbook\u001b[0m\u001b[1;33m.\u001b[0m\u001b[0mis_string_like\u001b[0m\u001b[1;33m(\u001b[0m\u001b[0mfname\u001b[0m\u001b[1;33m)\u001b[0m\u001b[1;33m:\u001b[0m\u001b[1;33m\u001b[0m\u001b[0m\n\u001b[0;32m   1232\u001b[0m             \u001b[1;31m# force close the file after reading the image\u001b[0m\u001b[1;33m\u001b[0m\u001b[1;33m\u001b[0m\u001b[0m\n\u001b[1;32m-> 1233\u001b[1;33m             \u001b[1;32mwith\u001b[0m \u001b[0mopen\u001b[0m\u001b[1;33m(\u001b[0m\u001b[0mfname\u001b[0m\u001b[1;33m,\u001b[0m \u001b[1;34m\"rb\"\u001b[0m\u001b[1;33m)\u001b[0m \u001b[1;32mas\u001b[0m \u001b[0mfh\u001b[0m\u001b[1;33m:\u001b[0m\u001b[1;33m\u001b[0m\u001b[0m\n\u001b[0m\u001b[0;32m   1234\u001b[0m                 \u001b[0mimage\u001b[0m \u001b[1;33m=\u001b[0m \u001b[0mImage\u001b[0m\u001b[1;33m.\u001b[0m\u001b[0mopen\u001b[0m\u001b[1;33m(\u001b[0m\u001b[0mfh\u001b[0m\u001b[1;33m)\u001b[0m\u001b[1;33m\u001b[0m\u001b[0m\n\u001b[0;32m   1235\u001b[0m                 \u001b[1;32mreturn\u001b[0m \u001b[0mpil_to_array\u001b[0m\u001b[1;33m(\u001b[0m\u001b[0mimage\u001b[0m\u001b[1;33m)\u001b[0m\u001b[1;33m\u001b[0m\u001b[0m\n",
      "\u001b[1;31mIOError\u001b[0m: [Errno 2] No such file or directory: 'hubble_image.jpg'"
     ]
    }
   ],
   "source": [
    "compressed_img = compressSVD(\"hubble_image.jpg\", 100)"
   ]
  },
  {
   "cell_type": "code",
   "execution_count": null,
   "metadata": {
    "collapsed": true
   },
   "outputs": [],
   "source": []
  }
 ],
 "metadata": {
  "kernelspec": {
   "display_name": "Python 2",
   "language": "python",
   "name": "python2"
  },
  "language_info": {
   "codemirror_mode": {
    "name": "ipython",
    "version": 2
   },
   "file_extension": ".py",
   "mimetype": "text/x-python",
   "name": "python",
   "nbconvert_exporter": "python",
   "pygments_lexer": "ipython2",
   "version": "2.7.9"
  }
 },
 "nbformat": 4,
 "nbformat_minor": 0
}
