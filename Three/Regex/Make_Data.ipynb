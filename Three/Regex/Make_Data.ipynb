{
 "cells": [
  {
   "cell_type": "code",
   "execution_count": 11,
   "metadata": {
    "collapsed": true
   },
   "outputs": [],
   "source": [
    "import numpy as np"
   ]
  },
  {
   "cell_type": "code",
   "execution_count": 7,
   "metadata": {
    "collapsed": false
   },
   "outputs": [],
   "source": [
    "# Initialize names lists\n",
    "\n",
    "males_file = open(\"new_males.txt\", 'r')\n",
    "males = males_file.readlines()\n",
    "males = [i.strip() for i in males]\n",
    "\n",
    "females_file = open(\"new_females.txt\", 'r')\n",
    "females = females_file.readlines()\n",
    "females = [i.strip() for i in females]\n",
    "\n",
    "last_file = open(\"new_last.txt\", 'r')\n",
    "last = last_file.readlines()\n",
    "last = [i.strip() for i in last]"
   ]
  },
  {
   "cell_type": "code",
   "execution_count": 15,
   "metadata": {
    "collapsed": false
   },
   "outputs": [],
   "source": [
    "# Initialize dates\n",
    "\n",
    "year = [\"2012\", \"2013\", \"2014\", \"2015\"]\n",
    "month = [\"01\", \"02\", \"03\", \"04\", \"05\", \"06\", \"07\", \"08\", \"09\", \"10\", \"11\", \"12\"]\n",
    "day = [\"01\", \"02\", \"03\", \"04\", \"05\", \"06\", \"07\", \"08\", \"09\", \"10\", \n",
    "       \"11\", \"12\", \"13\", \"14\", \"15\", \"16\", \"17\", \"18\", \"19\", \"20\",\n",
    "       \"21\", \"22\", \"23\", \"24\", \"25\", \"26\", \"27\", \"28\"]\n"
   ]
  },
  {
   "cell_type": "code",
   "execution_count": 53,
   "metadata": {
    "collapsed": false
   },
   "outputs": [],
   "source": [
    "''' \n",
    "Data set construction:\n",
    "\n",
    "<Order ID#> <Date> <Name> <Item #>\n",
    "'''\n",
    "\n",
    "size = 3000\n",
    "FS = ';'  # Field Separator\n",
    "\n",
    "# Order ID\n",
    "order_id = np.random.random_integers(1000000,9999999,size)\n",
    "order_id.sort()\n",
    "\n",
    "# Dates\n",
    "dates = []\n",
    "for i in xrange(size):\n",
    "    y = np.random.choice(year)\n",
    "    m = np.random.choice(month)\n",
    "    d = np.random.choice(day)\n",
    "    dates.append(y+m+d)\n",
    "dates.sort()\n",
    "    \n",
    "# Names\n",
    "names = []\n",
    "for i in xrange(size/2):\n",
    "    mf = np.random.choice(males)\n",
    "    ml = np.random.choice(last)\n",
    "    mname = ml + \",\" + mf\n",
    "    ff = np.random.choice(females)\n",
    "    fl = np.random.choice(last)\n",
    "    fname = fl + \",\" + ff\n",
    "    names.append(mname)\n",
    "    names.append(fname)\n",
    "np.random.shuffle(names)\n",
    "\n",
    "# Item Number\n",
    "items = np.random.random_integers(1000,9999,size)\n",
    "\n",
    "# Concatenate everything\n",
    "lines = []\n",
    "for i in xrange(size):\n",
    "    lines.append(str(order_id[i]) + FS + str(dates[i]) + FS + str(names[i]) + FS + str(items[i]) + '\\n') "
   ]
  },
  {
   "cell_type": "code",
   "execution_count": 54,
   "metadata": {
    "collapsed": false
   },
   "outputs": [],
   "source": [
    "out_file = open(\"data.txt\", \"w\")\n",
    "for i in xrange(size):\n",
    "    out_file.write(lines[i])"
   ]
  },
  {
   "cell_type": "code",
   "execution_count": 55,
   "metadata": {
    "collapsed": false
   },
   "outputs": [],
   "source": []
  },
  {
   "cell_type": "code",
   "execution_count": null,
   "metadata": {
    "collapsed": false
   },
   "outputs": [],
   "source": []
  },
  {
   "cell_type": "code",
   "execution_count": null,
   "metadata": {
    "collapsed": false
   },
   "outputs": [],
   "source": []
  },
  {
   "cell_type": "code",
   "execution_count": null,
   "metadata": {
    "collapsed": true
   },
   "outputs": [],
   "source": []
  }
 ],
 "metadata": {
  "kernelspec": {
   "display_name": "Python 2",
   "language": "python",
   "name": "python2"
  },
  "language_info": {
   "codemirror_mode": {
    "name": "ipython",
    "version": 2
   },
   "file_extension": ".py",
   "mimetype": "text/x-python",
   "name": "python",
   "nbconvert_exporter": "python",
   "pygments_lexer": "ipython2",
   "version": "2.7.10"
  }
 },
 "nbformat": 4,
 "nbformat_minor": 0
}
