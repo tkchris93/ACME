{
 "cells": [
  {
   "cell_type": "code",
   "execution_count": 25,
   "metadata": {
    "collapsed": true
   },
   "outputs": [],
   "source": [
    "import pandas as pd\n",
    "import csv\n",
    "import numpy as np\n",
    "import random"
   ]
  },
  {
   "cell_type": "code",
   "execution_count": 3,
   "metadata": {
    "collapsed": true
   },
   "outputs": [],
   "source": [
    "my_file = open('titanic3.csv','r')\n",
    "reader = csv.reader(my_file)\n",
    "data = []\n",
    "for line in reader:\n",
    "    data.append(line)"
   ]
  },
  {
   "cell_type": "code",
   "execution_count": 36,
   "metadata": {
    "collapsed": false
   },
   "outputs": [],
   "source": [
    "df = pd.DataFrame(data[1:], index=range(len(data)-1), columns=data[0])"
   ]
  },
  {
   "cell_type": "code",
   "execution_count": 37,
   "metadata": {
    "collapsed": false
   },
   "outputs": [],
   "source": [
    "trimmed = df.loc[:,['pclass','survived','sex','age','sibsp','parch']]"
   ]
  },
  {
   "cell_type": "code",
   "execution_count": 39,
   "metadata": {
    "collapsed": false
   },
   "outputs": [],
   "source": [
    "trimmed.loc[:,'sex'].replace('male','1', inplace=True)\n",
    "trimmed.loc[:,'sex'].replace('female','0', inplace=True)\n",
    "trimmed.replace('', np.nan, inplace=True).dropna(inplace=True)"
   ]
  },
  {
   "cell_type": "code",
   "execution_count": 40,
   "metadata": {
    "collapsed": false
   },
   "outputs": [],
   "source": []
  },
  {
   "cell_type": "code",
   "execution_count": 54,
   "metadata": {
    "collapsed": false
   },
   "outputs": [],
   "source": [
    "trimmed.set_index([range(len(trimmed.loc[:,'pclass']))], inplace=True)"
   ]
  },
  {
   "cell_type": "code",
   "execution_count": 55,
   "metadata": {
    "collapsed": false
   },
   "outputs": [],
   "source": [
    "# if pclass_change\n",
    "first_class = []\n",
    "second_class = []\n",
    "for i in xrange(0,len(trimmed.loc[:,'pclass'])):\n",
    "    if trimmed.loc[i,'pclass'] == '1':\n",
    "        first_class.append(1)\n",
    "        second_class.append(0)\n",
    "    elif trimmed.loc[i,'pclass'] == '2':\n",
    "        first_class.append(0)\n",
    "        second_class.append(1)\n",
    "    elif trimmed.loc[i,'pclass'] == '3':\n",
    "        first_class.append(0)\n",
    "        second_class.append(0)\n",
    "    else:\n",
    "        print \"problem\""
   ]
  },
  {
   "cell_type": "code",
   "execution_count": 56,
   "metadata": {
    "collapsed": false
   },
   "outputs": [],
   "source": [
    "# if pclass_change\n",
    "trimmed['first_class'] = pd.Series(first_class, index=trimmed.index)"
   ]
  },
  {
   "cell_type": "code",
   "execution_count": 57,
   "metadata": {
    "collapsed": false
   },
   "outputs": [],
   "source": [
    "# if pclass_change\n",
    "trimmed['second_class'] = pd.Series(second_class, index=trimmed.index)\n",
    "del temp['pclass']"
   ]
  },
  {
   "cell_type": "code",
   "execution_count": 78,
   "metadata": {
    "collapsed": false
   },
   "outputs": [],
   "source": [
    "training_size = int(.6*len(trimmed.index))\n",
    "test_size = len(trimmed.index) - training_size"
   ]
  },
  {
   "cell_type": "code",
   "execution_count": 80,
   "metadata": {
    "collapsed": false
   },
   "outputs": [],
   "source": [
    "all_indices = set(range(len(trimmed.index)))\n",
    "training_indices = set(random.sample(all_indices,training_size))\n",
    "test_indices = all_indices - training_indices"
   ]
  },
  {
   "cell_type": "code",
   "execution_count": 85,
   "metadata": {
    "collapsed": false
   },
   "outputs": [],
   "source": [
    "training = trimmed.loc[training_indices]\n",
    "test = trimmed.loc[test_indices]"
   ]
  },
  {
   "cell_type": "code",
   "execution_count": null,
   "metadata": {
    "collapsed": false
   },
   "outputs": [],
   "source": []
  },
  {
   "cell_type": "code",
   "execution_count": null,
   "metadata": {
    "collapsed": false
   },
   "outputs": [],
   "source": []
  },
  {
   "cell_type": "code",
   "execution_count": null,
   "metadata": {
    "collapsed": false
   },
   "outputs": [],
   "source": []
  },
  {
   "cell_type": "code",
   "execution_count": null,
   "metadata": {
    "collapsed": true
   },
   "outputs": [],
   "source": []
  }
 ],
 "metadata": {
  "kernelspec": {
   "display_name": "Python 2",
   "language": "python",
   "name": "python2"
  },
  "language_info": {
   "codemirror_mode": {
    "name": "ipython",
    "version": 2
   },
   "file_extension": ".py",
   "mimetype": "text/x-python",
   "name": "python",
   "nbconvert_exporter": "python",
   "pygments_lexer": "ipython2",
   "version": "2.7.10"
  }
 },
 "nbformat": 4,
 "nbformat_minor": 0
}
