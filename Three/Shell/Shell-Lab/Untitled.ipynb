{
 "cells": [
  {
   "cell_type": "code",
   "execution_count": 2,
   "metadata": {
    "collapsed": true
   },
   "outputs": [],
   "source": [
    "import subprocess"
   ]
  },
  {
   "cell_type": "code",
   "execution_count": 3,
   "metadata": {
    "collapsed": true
   },
   "outputs": [],
   "source": [
    "f = open(\"files.txt\",'r')"
   ]
  },
  {
   "cell_type": "code",
   "execution_count": 6,
   "metadata": {
    "collapsed": false
   },
   "outputs": [
    {
     "ename": "AttributeError",
     "evalue": "'list' object has no attribute 'strip'",
     "output_type": "error",
     "traceback": [
      "\u001b[1;31m---------------------------------------------------------------------------\u001b[0m",
      "\u001b[1;31mAttributeError\u001b[0m                            Traceback (most recent call last)",
      "\u001b[1;32m<ipython-input-6-7a769965c654>\u001b[0m in \u001b[0;36m<module>\u001b[1;34m()\u001b[0m\n\u001b[1;32m----> 1\u001b[1;33m \u001b[0moutput\u001b[0m \u001b[1;33m=\u001b[0m \u001b[0mf\u001b[0m\u001b[1;33m.\u001b[0m\u001b[0mreadlines\u001b[0m\u001b[1;33m(\u001b[0m\u001b[1;33m)\u001b[0m\u001b[1;33m.\u001b[0m\u001b[0mstrip\u001b[0m\u001b[1;33m(\u001b[0m\u001b[1;33m)\u001b[0m\u001b[1;33m\u001b[0m\u001b[0m\n\u001b[0m",
      "\u001b[1;31mAttributeError\u001b[0m: 'list' object has no attribute 'strip'"
     ]
    }
   ],
   "source": [
    "output = f.readlines()"
   ]
  },
  {
   "cell_type": "code",
   "execution_count": 41,
   "metadata": {
    "collapsed": false
   },
   "outputs": [],
   "source": [
    "newfile = []"
   ]
  },
  {
   "cell_type": "code",
   "execution_count": 42,
   "metadata": {
    "collapsed": false
   },
   "outputs": [],
   "source": [
    "for i in output:\n",
    "    newfile.append(subprocess.check_output('ls -il --time-style=long-iso ' + i, shell=True))"
   ]
  },
  {
   "cell_type": "code",
   "execution_count": 43,
   "metadata": {
    "collapsed": false
   },
   "outputs": [
    {
     "data": {
      "text/plain": [
       "['166672 -rw-rw-r-- 1 tanner tanner 200044 2015-08-02 11:26 ./Fourier1/output.wav\\n',\n",
       " '166663 -rw-rw-r-- 1 tanner tanner 3198 2015-08-02 11:26 ./Fourier1/Untitled.ipynb\\n',\n",
       " '166664 -rw-rw-r-- 1 tanner tanner 176444 2015-08-02 11:26 ./Fourier1/ceg.wav\\n',\n",
       " '166671 -rw-rw-r-- 1 tanner tanner 100044 2015-08-02 11:26 ./Fourier1/low_down_saw.wav\\n',\n",
       " '166677 -rw-rw-r-- 1 tanner tanner 2183 2015-08-02 11:26 ./Fourier1/solutions.pyc\\n',\n",
       " '166666 -rw-rw-r-- 1 tanner tanner 44144 2015-08-02 11:26 ./Fourier1/down_saw.wav\\n',\n",
       " '166679 -rw-rw-r-- 1 tanner tanner 13630 2015-08-02 11:26 ./Fourier1/unit_circle.npz\\n',\n",
       " '166669 -rw-rw-r-- 1 tanner tanner 200044 2015-08-02 11:26 ./Fourier1/good_down_saw.wav\\n',\n",
       " '166680 -rw-rw-r-- 1 tanner tanner 72 2015-08-02 11:26 ./Fourier1/.ipynb_checkpoints/Untitled-checkpoint.ipynb\\n',\n",
       " '166667 -rw-rw-r-- 1 tanner tanner 7027 2015-08-02 11:26 ./Fourier1/fft_outline.py\\n',\n",
       " '166668 -rw-rw-r-- 1 tanner tanner 4613 2015-08-02 11:26 ./Fourier1/fft_outline.pyc\\n',\n",
       " '166665 -rw-rw-r-- 1 tanner tanner 176444 2015-08-02 11:26 ./Fourier1/chord.wav\\n',\n",
       " '166678 -rw-rw-r-- 1 tanner tanner 171052 2015-08-02 11:26 ./Fourier1/tada.wav\\n',\n",
       " '166674 -rw-rw-r-- 1 tanner tanner 600044 2015-08-02 11:26 ./Fourier1/pulseramp.wav\\n',\n",
       " '166670 -rw-rw-r-- 1 tanner tanner 3073 2015-08-02 11:26 ./Fourier1/ig\\n',\n",
       " '166673 -rw-rw-r-- 1 tanner tanner 366256 2015-08-02 11:26 ./Fourier1/pianoclip.wav\\n',\n",
       " '166675 -rw-rw-r-- 1 tanner tanner 400044 2015-08-02 11:26 ./Fourier1/saw.wav\\n',\n",
       " '166676 -rw-rw-r-- 1 tanner tanner 1408 2015-08-02 11:26 ./Fourier1/solutions.py\\n',\n",
       " '166649 -rw-rw-r-- 1 tanner tanner 38275 2015-08-02 11:26 ./DataStruct2/figure_1.png\\n',\n",
       " '166657 -rw-rw-r-- 1 tanner tanner 6083 2015-08-02 11:26 ./DataStruct2/timings.ipynb\\n',\n",
       " '166650 -rw-rw-r-- 1 tanner tanner 38141 2015-08-02 11:26 ./DataStruct2/figure_2.png\\n',\n",
       " '166642 -rw-rw-r-- 1 tanner tanner 736 2015-08-02 11:26 ./DataStruct2/Node.py\\n',\n",
       " '166648 -rw-rw-r-- 1 tanner tanner 12288 2015-08-02 11:26 ./DataStruct2/_Feedback.txt.swp\\n',\n",
       " '166643 -rw-rw-r-- 1 tanner tanner 1765 2015-08-02 11:26 ./DataStruct2/Node.pyc\\n',\n",
       " '166640 -rw-rw-r-- 1 tanner tanner 542686 2015-08-02 11:26 ./DataStruct2/English.txt\\n',\n",
       " '166654 -rw-rw-r-- 1 tanner tanner 2694 2015-08-02 11:26 ./DataStruct2/solutions.pyc\\n',\n",
       " '166651 -rw-rw-r-- 1 tanner tanner 5715 2015-08-02 11:26 ./DataStruct2/linkedlist.py\\n',\n",
       " '166641 -rw-rw-r-- 1 tanner tanner 171 2015-08-02 11:26 ./DataStruct2/Feedback.txt\\n',\n",
       " '166658 -rw-rw-r-- 1 tanner tanner 72 2015-08-02 11:26 ./DataStruct2/.ipynb_checkpoints/timings-checkpoint.ipynb\\n',\n",
       " '166652 -rw-rw-r-- 1 tanner tanner 4235 2015-08-02 11:26 ./DataStruct2/linkedlist.pyc\\n',\n",
       " '166639 -rw-rw-r-- 1 tanner tanner 146583 2015-08-02 11:26 ./DataStruct2/BSTree.pdf\\n',\n",
       " '166655 -rw-rw-r-- 1 tanner tanner 2756 2015-08-02 11:26 ./DataStruct2/spec.py\\n',\n",
       " '166646 -rw-rw-r-- 1 tanner tanner 1486 2015-08-02 11:26 ./DataStruct2/WordList.py\\n',\n",
       " '166645 -rw-rw-r-- 1 tanner tanner 11372 2015-08-02 11:26 ./DataStruct2/Trees.pyc\\n',\n",
       " '166644 -rw-rw-r-- 1 tanner tanner 14527 2015-08-02 11:26 ./DataStruct2/Trees.py\\n',\n",
       " '166656 -rw-rw-r-- 1 tanner tanner 16356 2015-08-02 11:26 ./DataStruct2/times.pdf\\n',\n",
       " '166659 -rw-rw-r-- 1 tanner tanner 249 2015-08-02 11:26 ./DataStruct2/__MACOSX/__English.txt\\n',\n",
       " '166662 -rw-rw-r-- 1 tanner tanner 250 2015-08-02 11:26 ./DataStruct2/__MACOSX/__spec.py\\n',\n",
       " '166661 -rw-rw-r-- 1 tanner tanner 247 2015-08-02 11:26 ./DataStruct2/__MACOSX/__WordList.py\\n',\n",
       " '166660 -rw-rw-r-- 1 tanner tanner 253 2015-08-02 11:26 ./DataStruct2/__MACOSX/__Trees.py\\n',\n",
       " '166653 -rw-rw-r-- 1 tanner tanner 2842 2015-08-02 11:26 ./DataStruct2/solutions.py\\n',\n",
       " '166647 -rw-rw-r-- 1 tanner tanner 1317 2015-08-02 11:26 ./DataStruct2/WordList.pyc\\n',\n",
       " '154091 -rw-rw-r-- 1 tanner tanner 937 2015-08-18 01:47 ./Bacon/Feedback.txt\\n',\n",
       " '153888 -rw-r--r-- 1 tanner tanner 747 2015-07-31 01:33 ./Bacon/bacon_data.py\\n',\n",
       " '131907 -rw-r--r-- 1 tanner tanner 6063 2015-08-13 20:21 ./Bacon/spec.pyc\\n',\n",
       " '153887 -rwxr-xr-x 1 tanner tanner 927395 2014-10-01 21:19 ./Bacon/movieData.txt\\n',\n",
       " '153584 -rw-r--r-- 1 tanner tanner 6651 2015-08-13 20:23 ./Bacon/spec.py\\n',\n",
       " '131505 -rw-r--r-- 1 tanner tanner 803 2015-08-13 19:29 ./Bacon/bacon_data.pyc\\n',\n",
       " '153886 -rw-r--r-- 1 tanner tanner 170375 2015-07-31 01:34 ./Bacon/KBacon.pdf\\n',\n",
       " '166630 -rw-rw-r-- 1 tanner tanner 736 2015-08-02 11:26 ./DataStruct1/Node.py\\n',\n",
       " '166631 -rw-rw-r-- 1 tanner tanner 1765 2015-08-02 11:26 ./DataStruct1/Node.pyc\\n',\n",
       " '166635 -rw-rw-r-- 1 tanner tanner 5715 2015-08-02 11:26 ./DataStruct1/my_solutions.py\\n',\n",
       " '166627 -rw-rw-r-- 1 tanner tanner 3661 2015-08-02 11:26 ./DataStruct1/Feedback.txt\\n',\n",
       " '166629 -rw-rw-r-- 1 tanner tanner 457 2015-08-02 11:26 ./DataStruct1/Lab4_data.pyc\\n',\n",
       " '166636 -rw-rw-r-- 1 tanner tanner 4265 2015-08-02 11:26 ./DataStruct1/my_solutions.pyc\\n',\n",
       " '166637 -rw-rw-r-- 1 tanner tanner 122401 2015-08-02 11:26 ./DataStruct1/one_lab.pdf\\n',\n",
       " '166628 -rw-rw-r-- 1 tanner tanner 202 2015-08-02 11:26 ./DataStruct1/Lab4_data.py\\n',\n",
       " '166633 -rw-rw-r-- 1 tanner tanner 542696 2015-08-02 11:26 ./DataStruct1/data.txt\\n',\n",
       " '166689 -rw-rw-r-- 1 tanner tanner 507884 2015-08-02 11:26 ./Fourier2/cleansig2.wav\\n',\n",
       " '166694 -rw-rw-r-- 1 tanner tanner 507884 2015-08-02 11:26 ./Fourier2/output.wav\\n',\n",
       " '153979 -rw-rw-r-- 1 tanner tanner 882044 2015-08-13 11:36 ./Fourier2/my_tada_conv.wav\\n',\n",
       " '166701 -rw-rw-r-- 1 tanner tanner 441044 2015-08-02 11:26 ./Fourier2/white.wav\\n',\n",
       " '153892 -rw-rw-r-- 1 tanner tanner 3735 2015-08-13 13:05 ./Fourier2/outline.py\\n',\n",
       " '166685 -rw-rw-r-- 1 tanner tanner 12288 2015-08-02 11:26 ./Fourier2/_Feedback.txt.swp\\n',\n",
       " '166688 -rw-rw-r-- 1 tanner tanner 1776592 2015-08-02 11:26 ./Fourier2/chopinw.wav\\n',\n",
       " '166696 -rw-rw-r-- 1 tanner tanner 2340 2015-08-02 11:26 ./Fourier2/solutions.pyc\\n',\n",
       " '166690 -rw-rw-r-- 1 tanner tanner 2259454 2015-08-02 11:26 ./Fourier2/guitar-conv.mp3\\n',\n",
       " '166683 -rw-rw-r-- 1 tanner tanner 344124 2015-08-02 11:26 ./Fourier2/Noisysignal1.wav\\n',\n",
       " '153776 -rw-rw-r-- 1 tanner tanner 1236 2015-08-08 21:01 ./Fourier2/Feedback.txt\\n',\n",
       " '166699 -rw-rw-r-- 1 tanner tanner 2307724 2015-08-02 11:26 ./Fourier2/chopin_conv.wav\\n',\n",
       " '166693 -rw-rw-r-- 1 tanner tanner 1153884 2015-08-02 11:26 ./Fourier2/mono_conv.wav\\n',\n",
       " '153962 -rw-rw-r-- 1 tanner tanner 603 2015-08-13 11:35 ./Fourier2/tada_session.py\\n',\n",
       " '166700 -rw-rw-r-- 1 tanner tanner 888318 2015-08-02 11:26 ./Fourier2/test_conv.wav\\n',\n",
       " '166691 -rw-rw-r-- 1 tanner tanner 544 2015-08-02 11:26 ./Fourier2/ipython_session.py\\n',\n",
       " '166698 -rw-rw-r-- 1 tanner tanner 171052 2015-08-02 11:26 ./Fourier2/tada.wav\\n',\n",
       " '166692 -rw-rw-r-- 1 tanner tanner 507884 2015-08-02 11:26 ./Fourier2/messing.wav\\n',\n",
       " '166686 -rw-rw-r-- 1 tanner tanner 531176 2015-08-02 11:26 ./Fourier2/balloon.wav\\n',\n",
       " '166684 -rw-rw-r-- 1 tanner tanner 507884 2015-08-02 11:26 ./Fourier2/Noisysignal2.wav\\n',\n",
       " '153728 -rw-rw-r-- 1 tanner tanner 2502 2015-08-13 12:26 ./Fourier2/solutions.py\\n',\n",
       " '166697 -rw-rw-r-- 1 tanner tanner 441044 2015-08-02 11:26 ./Fourier2/tada-conv.wav\\n',\n",
       " '166714 -rw-rw-r-- 1 tanner tanner 1558 2015-08-02 11:26 ./RSA/solutions.py.save\\n',\n",
       " '166704 -rw-rw-r-- 1 tanner tanner 899 2015-08-02 11:26 ./RSA/ExEucAlg.py\\n',\n",
       " '166708 -rw-rw-r-- 1 tanner tanner 1804 2015-08-02 11:26 ./RSA/Untitled.ipynb\\n',\n",
       " '166715 -rw-rw-r-- 1 tanner tanner 4129 2015-08-02 11:26 ./RSA/solutions.pyc\\n',\n",
       " '166716 -rw-rw-r-- 1 tanner tanner 72 2015-08-02 11:26 ./RSA/.ipynb_checkpoints/Untitled-checkpoint.ipynb\\n',\n",
       " '166706 -rw-rw-r-- 1 tanner tanner 5780 2015-08-02 11:26 ./RSA/RSA.py\\n',\n",
       " '166712 -rw-rw-r-- 1 tanner tanner 2094 2015-08-02 11:26 ./RSA/rsa_tools.pyc\\n',\n",
       " '166709 -rw-rw-r-- 1 tanner tanner 262139 2015-08-02 11:26 ./RSA/lab3.pdf\\n',\n",
       " '166710 -rw-rw-r-- 1 tanner tanner 6467 2015-08-02 11:26 ./RSA/lab3_spec.py\\n',\n",
       " '166711 -rw-rw-r-- 1 tanner tanner 1754 2015-08-02 11:26 ./RSA/rsa_tools.py\\n',\n",
       " '166713 -rw-rw-r-- 1 tanner tanner 3864 2015-08-02 11:26 ./RSA/solutions.py\\n',\n",
       " '166707 -rw-rw-r-- 1 tanner tanner 5150 2015-08-02 11:26 ./RSA/RSA.pyc\\n',\n",
       " '166705 -rw-rw-r-- 1 tanner tanner 1032 2015-08-02 11:26 ./RSA/ExEucAlg.pyc\\n']"
      ]
     },
     "execution_count": 43,
     "metadata": {},
     "output_type": "execute_result"
    }
   ],
   "source": [
    "newfile\n"
   ]
  },
  {
   "cell_type": "code",
   "execution_count": 22,
   "metadata": {
    "collapsed": true
   },
   "outputs": [],
   "source": [
    "output.remove(\"./DataStruct1/Data Structures 1.ipynb\")"
   ]
  },
  {
   "cell_type": "code",
   "execution_count": 47,
   "metadata": {
    "collapsed": false
   },
   "outputs": [],
   "source": [
    "fout = open(\"/home/tanner/ACME/Three/Shell/Shell-Lab/newfiles.txt\",'w')"
   ]
  },
  {
   "cell_type": "code",
   "execution_count": 48,
   "metadata": {
    "collapsed": true
   },
   "outputs": [],
   "source": [
    "fout.writelines(newfile)"
   ]
  },
  {
   "cell_type": "code",
   "execution_count": 40,
   "metadata": {
    "collapsed": false
   },
   "outputs": [
    {
     "name": "stdout",
     "output_type": "stream",
     "text": [
      "cat: newfile.txt: No such file or directory\r\n"
     ]
    }
   ],
   "source": [
    "cat newfile.txt\n"
   ]
  },
  {
   "cell_type": "code",
   "execution_count": 46,
   "metadata": {
    "collapsed": false
   },
   "outputs": [
    {
     "name": "stdout",
     "output_type": "stream",
     "text": [
      "/home/tanner\n"
     ]
    }
   ],
   "source": [
    "cd\n"
   ]
  },
  {
   "cell_type": "code",
   "execution_count": null,
   "metadata": {
    "collapsed": true
   },
   "outputs": [],
   "source": []
  }
 ],
 "metadata": {
  "kernelspec": {
   "display_name": "Python 2",
   "language": "python",
   "name": "python2"
  },
  "language_info": {
   "codemirror_mode": {
    "name": "ipython",
    "version": 2
   },
   "file_extension": ".py",
   "mimetype": "text/x-python",
   "name": "python",
   "nbconvert_exporter": "python",
   "pygments_lexer": "ipython2",
   "version": "2.7.10"
  }
 },
 "nbformat": 4,
 "nbformat_minor": 0
}
