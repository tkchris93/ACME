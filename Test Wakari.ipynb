{
 "metadata": {
  "name": "",
  "signature": "sha256:a2c3e503b0790d89e4f1c967f184fdf6d6f9f858ff82d682ce439baa2ef05c15"
 },
 "nbformat": 3,
 "nbformat_minor": 0,
 "worksheets": []
}