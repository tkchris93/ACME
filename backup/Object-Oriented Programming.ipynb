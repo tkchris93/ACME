{
 "cells": [
  {
   "cell_type": "code",
   "execution_count": 1,
   "metadata": {
    "collapsed": false
   },
   "outputs": [],
   "source": [
    "class Backpack(object):\n",
    "    '''\n",
    "    A class for creating backpack objects. Methods to\n",
    "    add and remove items are included.\n",
    "    '''\n",
    "    \n",
    "    def __init__(self, name = 'backpack', color = 'black', max_size = 5):\n",
    "        '''\n",
    "        Constructor for a backpack object.\n",
    "\n",
    "        Inputs:\n",
    "        color (String) - The color of the backpack\n",
    "\n",
    "        Returns:\n",
    "        A backpack object with no contents.\n",
    "        '''\n",
    "        self.color = color\n",
    "        self.contents = []\n",
    "        self.name = name\n",
    "        self.max_size = max_size\n",
    "        \n",
    "    def dump(self):\n",
    "        for i in xrange(len(self.contents)):\n",
    "            self.contents.pop()\n",
    "    \n",
    "    def put(self, item):\n",
    "        '''Add an item to the backpacks content list.'''\n",
    "        if len(self.contents) < self.max_size:\n",
    "            self.contents.append(item)\n",
    "        else:\n",
    "            print \"Backpack Full\"\n",
    "    \n",
    "    def take(self, item):\n",
    "        '''Remove an item from the backpack's content list.'''\n",
    "        self.contents.remove(item)\n",
    "        \n",
    "    def __repr__(self):\n",
    "        line1 = \"Name: \\t\\t \" + self.name + \"\\n\"\n",
    "        line2 = \"Color: \\t\\t \" + self.color + \"\\n\"\n",
    "        line3 = \"Size: \\t\\t \" + str(len(self.contents)) + \"\\n\"\n",
    "        line4 = \"Max Size: \\t \" + str(self.max_size) + \"\\n\"\n",
    "        \n",
    "        if len(self.contents) == 0:\n",
    "            line5 = \"Contents: \\t Empty\"\n",
    "            line6 = \"\"\n",
    "        else:\n",
    "            line5 = \"Contents:\"\n",
    "            line6 = \"\"\n",
    "            for i in xrange(len(self.contents)):\n",
    "                line6 += \"\\t\\t \" + str(self.contents[i]) + \"\\n\"\n",
    "        \n",
    "        return line1 + line2 + line3 + line4 + line5 + line6\n",
    "    \n",
    "    def __eq__(self, other):\n",
    "        temp1 = list(self.contents.sort())\n",
    "        temp2 = list(other.contents.sort())\n",
    "        if (self.name == other.name) and (self.color == other.color) and (temp1 == temp2):\n",
    "            return True\n",
    "        else:\n",
    "            return False\n",
    "           "
   ]
  },
  {
   "cell_type": "code",
   "execution_count": 6,
   "metadata": {
    "collapsed": true
   },
   "outputs": [],
   "source": [
    "class Jetpack(Backpack):\n",
    "    def __init__(self, name = 'backpack', color = 'black', max_size = 2, fuel = 10):\n",
    "        Backpack.__init__(self, name, color, max_size)\n",
    "        \n",
    "        self.fuel = fuel\n",
    "        \n",
    "    def fly(self,amount):\n",
    "        if self.fuel - amount < 0:\n",
    "            print \"Not Enough Fuel!\"\n",
    "        else:\n",
    "            self.fuel -= amount\n",
    "        "
   ]
  },
  {
   "cell_type": "code",
   "execution_count": 63,
   "metadata": {
    "collapsed": false
   },
   "outputs": [],
   "source": [
    "from math import sqrt\n",
    "\n",
    "class ComplexNumber(object):\n",
    "    def __init__(self, real, imag = 0):\n",
    "        self.real = real\n",
    "        self.imag = imag\n",
    "    \n",
    "    def conjugate(self):\n",
    "        return ComplexNumber(self.real, -self.imag)\n",
    "    def norm(self):\n",
    "        norm = sqrt(self.real**2 + self.imag**2)\n",
    "        return ComplexNumber(norm)\n",
    "    \n",
    "    def __repr__(self):\n",
    "        return str(self.real) + \" + \" + str(self.imag) + \"i\"\n",
    "    def __add__(self, other):\n",
    "        a = self.real + other.real\n",
    "        b = self.imag + other.imag\n",
    "        print str(a) + \" + \" + str(b) + \"i\"\n",
    "    def __sub__(self, other):\n",
    "        a = self.real - other.real\n",
    "        b = self.imag - other.imag\n",
    "        print str(a) + \" + \" + str(b) + \"i\"\n",
    "    def __mul__(self, other):\n",
    "        first_first = self.real * other.real\n",
    "        middle = (self.real * other.imag) + (self.imag * other.real)\n",
    "        last_last = self.imag * other.imag\n",
    "        \n",
    "        a = first_first - last_last\n",
    "        b = middle\n",
    "        print str(a) + \" + \" + str(b) + \"i\"\n",
    "    def __div__(self, other):\n",
    "        first_first = self.real * other.real\n",
    "        middle = (self.real * -other.imag) + (self.imag * other.real)\n",
    "        last_last = self.imag * -other.imag\n",
    "        denominator = other.real**2 + other.imag**2\n",
    "        \n",
    "        a = first_first - last_last\n",
    "        b = middle\n",
    "        print str(float(a)/denominator) + \" + \" + str(float(b)/denominator) + \"i\""
   ]
  },
  {
   "cell_type": "code",
   "execution_count": 64,
   "metadata": {
    "collapsed": false
   },
   "outputs": [],
   "source": [
    "a = ComplexNumber(2,1)\n",
    "b = ComplexNumber(1,2)"
   ]
  },
  {
   "cell_type": "code",
   "execution_count": 65,
   "metadata": {
    "collapsed": false
   },
   "outputs": [
    {
     "name": "stdout",
     "output_type": "stream",
     "text": [
      "0.8 + -0.6i\n"
     ]
    }
   ],
   "source": [
    "a / b"
   ]
  },
  {
   "cell_type": "code",
   "execution_count": 163,
   "metadata": {
    "collapsed": false
   },
   "outputs": [],
   "source": []
  },
  {
   "cell_type": "code",
   "execution_count": 7,
   "metadata": {
    "collapsed": false
   },
   "outputs": [],
   "source": []
  },
  {
   "cell_type": "code",
   "execution_count": 19,
   "metadata": {
    "collapsed": false
   },
   "outputs": [],
   "source": [
    "class Knapsack(Backpack):\n",
    "    def __init__(self, color='black', max_size=3):\n",
    "        Backpack.__init__(self,color=color,max_size=max_size)\n",
    "        self.closed = True\n",
    "    def put(self, item):\n",
    "        if self.closed == True:\n",
    "            print \"Knapsack is closed!\"\n",
    "        else:\n",
    "            Backpack.put(self, item)\n",
    "    def take(self, item):\n",
    "        if self.closed == True:\n",
    "            print \"Knapsack is closed!\"\n",
    "        else:\n",
    "            Backpack.take(self, item)\n",
    "    def untie(self):\n",
    "        self.closed = False\n",
    "    def tie(self):\n",
    "        self.closed = True\n",
    "        "
   ]
  },
  {
   "cell_type": "code",
   "execution_count": 20,
   "metadata": {
    "collapsed": false
   },
   "outputs": [],
   "source": [
    "k = Knapsack()\n"
   ]
  },
  {
   "cell_type": "code",
   "execution_count": 24,
   "metadata": {
    "collapsed": false
   },
   "outputs": [],
   "source": [
    "k.untie()\n",
    "k.put('a')\n",
    "k.put('b')\n",
    "k.tie()"
   ]
  },
  {
   "cell_type": "code",
   "execution_count": 25,
   "metadata": {
    "collapsed": false
   },
   "outputs": [
    {
     "data": {
      "text/plain": [
       "['a', 'b']"
      ]
     },
     "execution_count": 25,
     "metadata": {},
     "output_type": "execute_result"
    }
   ],
   "source": [
    "k.contents\n"
   ]
  },
  {
   "cell_type": "code",
   "execution_count": 23,
   "metadata": {
    "collapsed": false
   },
   "outputs": [
    {
     "name": "stdout",
     "output_type": "stream",
     "text": [
      "Name: \t\t backpack\n",
      "Color: \t\t black\n",
      "Size: \t\t 0\n",
      "Max Size: \t 3\n",
      "Contents: \t Empty\n"
     ]
    }
   ],
   "source": [
    "print k\n"
   ]
  },
  {
   "cell_type": "code",
   "execution_count": 18,
   "metadata": {
    "collapsed": false
   },
   "outputs": [
    {
     "data": {
      "text/plain": [
       "3"
      ]
     },
     "execution_count": 18,
     "metadata": {},
     "output_type": "execute_result"
    }
   ],
   "source": [
    "k.color"
   ]
  },
  {
   "cell_type": "code",
   "execution_count": 26,
   "metadata": {
    "collapsed": true
   },
   "outputs": [],
   "source": [
    "class Backpack1():\n",
    "    def __init__(self, color='black'):\n",
    "        self.color = color\n",
    "        self.contents = []\n",
    "    def put(self, item):\n",
    "        self.contents.append(item)\n",
    "    def take(self, item):\n",
    "        self.contents.remove(item)\n",
    "    def __add__(self, other):\n",
    "        self.contents = self.contents + other.contents\n",
    "    def __lt__(self,other):\n",
    "        "
   ]
  },
  {
   "cell_type": "code",
   "execution_count": 28,
   "metadata": {
    "collapsed": false
   },
   "outputs": [
    {
     "name": "stdout",
     "output_type": "stream",
     "text": [
      "['a']\n",
      "['b']\n",
      "['a', 'b']\n"
     ]
    }
   ],
   "source": [
    "b1 = Backpack1()\n",
    "b2 = Backpack1()\n",
    "b1.put('a')\n",
    "b2.put('b')\n",
    "print b1.contents\n",
    "print b2.contents\n",
    "\n",
    "b1+b2\n",
    "print b1.contents"
   ]
  },
  {
   "cell_type": "code",
   "execution_count": null,
   "metadata": {
    "collapsed": true
   },
   "outputs": [],
   "source": []
  },
  {
   "cell_type": "code",
   "execution_count": 33,
   "metadata": {
    "collapsed": false
   },
   "outputs": [
    {
     "name": "stdout",
     "output_type": "stream",
     "text": [
      "['a', 'b']\n",
      "['b', 'a']\n"
     ]
    }
   ],
   "source": [
    "b1 = Backpack()\n",
    "b2 = Backpack()\n",
    "b1.put('a')\n",
    "b2.put('b')\n",
    "b1.put('b')\n",
    "b2.put('a')\n",
    "print b1.contents\n",
    "print b2.contents"
   ]
  },
  {
   "cell_type": "code",
   "execution_count": 34,
   "metadata": {
    "collapsed": false
   },
   "outputs": [
    {
     "data": {
      "text/plain": [
       "True"
      ]
     },
     "execution_count": 34,
     "metadata": {},
     "output_type": "execute_result"
    }
   ],
   "source": [
    "b1 == b2"
   ]
  },
  {
   "cell_type": "code",
   "execution_count": null,
   "metadata": {
    "collapsed": false
   },
   "outputs": [],
   "source": []
  },
  {
   "cell_type": "code",
   "execution_count": null,
   "metadata": {
    "collapsed": true
   },
   "outputs": [],
   "source": []
  }
 ],
 "metadata": {
  "kernelspec": {
   "display_name": "Python 2",
   "language": "python",
   "name": "python2"
  },
  "language_info": {
   "codemirror_mode": {
    "name": "ipython",
    "version": 2
   },
   "file_extension": ".py",
   "mimetype": "text/x-python",
   "name": "python",
   "nbconvert_exporter": "python",
   "pygments_lexer": "ipython2",
   "version": "2.7.9"
  }
 },
 "nbformat": 4,
 "nbformat_minor": 0
}
