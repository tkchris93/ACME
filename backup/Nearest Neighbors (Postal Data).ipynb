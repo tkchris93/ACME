{
 "cells": [
  {
   "cell_type": "code",
   "execution_count": 1,
   "metadata": {
    "collapsed": false
   },
   "outputs": [
    {
     "ename": "NameError",
     "evalue": "name 'points' is not defined",
     "output_type": "error",
     "traceback": [
      "\u001b[1;31m---------------------------------------------------------------------------\u001b[0m",
      "\u001b[1;31mNameError\u001b[0m                                 Traceback (most recent call last)",
      "\u001b[1;32m<ipython-input-1-0fd3758f6860>\u001b[0m in \u001b[0;36m<module>\u001b[1;34m()\u001b[0m\n\u001b[0;32m     88\u001b[0m     \u001b[1;32mreturn\u001b[0m \u001b[0mfloat\u001b[0m\u001b[1;33m(\u001b[0m\u001b[0mlen\u001b[0m\u001b[1;33m(\u001b[0m\u001b[0mincorrect\u001b[0m\u001b[1;33m)\u001b[0m\u001b[1;33m)\u001b[0m\u001b[1;33m/\u001b[0m\u001b[0mlen\u001b[0m\u001b[1;33m(\u001b[0m\u001b[0mtestlabels\u001b[0m\u001b[1;33m)\u001b[0m\u001b[1;33m\u001b[0m\u001b[0m\n\u001b[0;32m     89\u001b[0m \u001b[1;33m\u001b[0m\u001b[0m\n\u001b[1;32m---> 90\u001b[1;33m \u001b[0mnbrs1\u001b[0m \u001b[1;33m=\u001b[0m \u001b[0mproblem4_3\u001b[0m\u001b[1;33m(\u001b[0m\u001b[0mpoints\u001b[0m\u001b[1;33m[\u001b[0m\u001b[1;36m1\u001b[0m\u001b[1;33m]\u001b[0m\u001b[1;33m,\u001b[0m \u001b[0mlabels\u001b[0m\u001b[1;33m[\u001b[0m\u001b[1;36m1\u001b[0m\u001b[1;33m]\u001b[0m\u001b[1;33m,\u001b[0m \u001b[1;36m4\u001b[0m\u001b[1;33m,\u001b[0m \u001b[1;34m\"uniform\"\u001b[0m\u001b[1;33m,\u001b[0m \u001b[1;36m2\u001b[0m\u001b[1;33m)\u001b[0m\u001b[1;33m\u001b[0m\u001b[0m\n\u001b[0m\u001b[0;32m     91\u001b[0m \u001b[1;32mprint\u001b[0m \u001b[0mproblem4_4\u001b[0m\u001b[1;33m(\u001b[0m\u001b[0mnbrs1\u001b[0m\u001b[1;33m,\u001b[0m \u001b[0mtestpoints\u001b[0m\u001b[1;33m[\u001b[0m\u001b[1;36m1\u001b[0m\u001b[1;33m]\u001b[0m\u001b[1;33m,\u001b[0m \u001b[0mtestlabels\u001b[0m\u001b[1;33m[\u001b[0m\u001b[1;36m1\u001b[0m\u001b[1;33m]\u001b[0m\u001b[1;33m)\u001b[0m\u001b[1;33m\u001b[0m\u001b[0m\n\u001b[0;32m     92\u001b[0m \u001b[1;33m\u001b[0m\u001b[0m\n",
      "\u001b[1;31mNameError\u001b[0m: name 'points' is not defined"
     ]
    }
   ],
   "source": [
    "import numpy as np\n",
    "\n",
    "def problem1(training_set, scaling_vector):\n",
    "    output = np.copy(training_set)\n",
    "    output = output/scaling_vector\n",
    "    return output\n",
    "\n",
    "\n",
    "#  This function is written assuming that the training set = [vectors[], labels] \n",
    "#       the vector at vectors[i] corresponds to labels[i]\n",
    "\n",
    "def problem2(training_set, scaling_vector, unlabelled_vector):\n",
    "    if type(training_set[0][0][0]) != float:\n",
    "        print \"you need floats in your training set\"\n",
    "    \n",
    "    if type(unlabelled_vector[0]) != float:\n",
    "        print \"you need floats in your unlabelled vector\"\n",
    "    \n",
    "    vectors = training_set[0]\n",
    "    labels = training_set[1]\n",
    "    \n",
    "    scaled_data = problem1(vectors, scaling_vector)\n",
    "    scaled_unlabelled_vector = problem1(unlabelled_vector, scaling_vector)\n",
    "    nearest_neighbor_index = 0 \n",
    "    nearest_distance = distance(scaled_data[0], scaled_unlabelled_vector)\n",
    "    for i in xrange(len(scaled_data)):\n",
    "        dist = distance(scaled_data[i], scaled_unlabelled_vector)\n",
    "        if dist < nearest_distance:\n",
    "            nearest_distance = dist\n",
    "            nearest_neighbor_index = i\n",
    "    print nearest_neighbor_index\n",
    "    return labels[nearest_neighbor_index]\n",
    "        \n",
    "def distance(v1, v2):\n",
    "    total = 0\n",
    "    if (len(v1) != len(v2)):\n",
    "        print \"you're an idiot. Use your own function correctly\"\n",
    "    for i in xrange(len(v1)):\n",
    "        total += (v1[i] - v2[i])**2\n",
    "    return np.sqrt(total)\n",
    "\n",
    "#1:15 for problems 1 and 2\n",
    "\n",
    "\n",
    "def problem3():\n",
    "    from sklearn import datasets as ds\n",
    "    ds.load_iris()\n",
    "    \n",
    "    # This set of data has 150 instances (50 of each of three classes)\n",
    "    # The data is formatted as:\n",
    "    # [sepal length in cm,\n",
    "    #  sepal width in cm,\n",
    "    #  petal length in cm,\n",
    "    #  petal width in cm]\n",
    "    #\n",
    "    # We are also told what the minimums, maximums, mean, SD, and class correlation\n",
    "    # of each of these pieces of data are.\n",
    "\n",
    "#problem 1-3: 1:40\n",
    "\n",
    "def problem4_2(x):\n",
    "    # x is an integer between 0-9\n",
    "    labels, points, testlabels, testpoints = np.load('C:/Users/Tanner/Desktop/Work/PostalData.npz').items()\n",
    "    labels = labels[1]\n",
    "    points = points[1]\n",
    "    count = 0.0\n",
    "    total = 0\n",
    "    for i in xrange(len(labels)):\n",
    "        if labels[i] == x:\n",
    "            total += points[i]\n",
    "            count += 1\n",
    "    print count\n",
    "    return total/count\n",
    "\n",
    "from sklearn import neighbors\n",
    "def problem4_3(_points, _labels, _n, _w, _p):\n",
    "    nbrsClassifier = neighbors.KNeighborsClassifier(n_neighbors = _n, weights = _w, p = _p)\n",
    "    nbrsClassifier.fit(_points, _labels)\n",
    "    return nbrsClassifier\n",
    "\n",
    "def problem4_4(classifier, testpoints, testlabels):\n",
    "    nbrs = classifier\n",
    "    mylist = nbrs.predict(testpoints) == testlabels\n",
    "    incorrect = []\n",
    "    for i in xrange(len(mylist)):\n",
    "        if mylist[i] == False:\n",
    "            incorrect.append(i)\n",
    "    return float(len(incorrect))/len(testlabels)\n",
    "\n",
    "nbrs1 = problem4_3(points[1], labels[1], 4, \"uniform\", 2)\n",
    "print problem4_4(nbrs1, testpoints[1], testlabels[1])\n",
    "\n",
    "nbrs2 = problem4_3(points[1], labels[1], 10, \"distance\", 2)\n",
    "print problem4_4(nbrs2, testpoints[1], testlabels[1])\n",
    "\n",
    "nbrs3 = problem4_3(points[1], labels[1], 1, \"distance\", 2)\n",
    "print problem4_4(nbrs3, testpoints[1], testlabels[1])\n",
    "\n",
    "nbrs4 = problem4_3(points[1], labels[1], 1, \"uniform\", 2)\n",
    "print problem4_4(nbrs4, testpoints[1], testlabels[1])\n",
    "\n",
    "#3:30 total\n",
    "# to visualize a given image, use plt.imshow(IMG.reshape(28,28))"
   ]
  },
  {
   "cell_type": "code",
   "execution_count": 2,
   "metadata": {
    "collapsed": false
   },
   "outputs": [
    {
     "ename": "IOError",
     "evalue": "[Errno 2] No such file or directory: 'C:/Users/Tanner/Desktop/Work/PostalData.npz'",
     "output_type": "error",
     "traceback": [
      "\u001b[1;31m---------------------------------------------------------------------------\u001b[0m",
      "\u001b[1;31mIOError\u001b[0m                                   Traceback (most recent call last)",
      "\u001b[1;32m<ipython-input-2-844ce7fa14ee>\u001b[0m in \u001b[0;36m<module>\u001b[1;34m()\u001b[0m\n\u001b[1;32m----> 1\u001b[1;33m \u001b[0mproblem4_2\u001b[0m\u001b[1;33m(\u001b[0m\u001b[1;36m1\u001b[0m\u001b[1;33m)\u001b[0m\u001b[1;33m\u001b[0m\u001b[0m\n\u001b[0m",
      "\u001b[1;32m<ipython-input-1-0fd3758f6860>\u001b[0m in \u001b[0;36mproblem4_2\u001b[1;34m(x)\u001b[0m\n\u001b[0;32m     61\u001b[0m \u001b[1;32mdef\u001b[0m \u001b[0mproblem4_2\u001b[0m\u001b[1;33m(\u001b[0m\u001b[0mx\u001b[0m\u001b[1;33m)\u001b[0m\u001b[1;33m:\u001b[0m\u001b[1;33m\u001b[0m\u001b[0m\n\u001b[0;32m     62\u001b[0m     \u001b[1;31m# x is an integer between 0-9\u001b[0m\u001b[1;33m\u001b[0m\u001b[1;33m\u001b[0m\u001b[0m\n\u001b[1;32m---> 63\u001b[1;33m     \u001b[0mlabels\u001b[0m\u001b[1;33m,\u001b[0m \u001b[0mpoints\u001b[0m\u001b[1;33m,\u001b[0m \u001b[0mtestlabels\u001b[0m\u001b[1;33m,\u001b[0m \u001b[0mtestpoints\u001b[0m \u001b[1;33m=\u001b[0m \u001b[0mnp\u001b[0m\u001b[1;33m.\u001b[0m\u001b[0mload\u001b[0m\u001b[1;33m(\u001b[0m\u001b[1;34m'C:/Users/Tanner/Desktop/Work/PostalData.npz'\u001b[0m\u001b[1;33m)\u001b[0m\u001b[1;33m.\u001b[0m\u001b[0mitems\u001b[0m\u001b[1;33m(\u001b[0m\u001b[1;33m)\u001b[0m\u001b[1;33m\u001b[0m\u001b[0m\n\u001b[0m\u001b[0;32m     64\u001b[0m     \u001b[0mlabels\u001b[0m \u001b[1;33m=\u001b[0m \u001b[0mlabels\u001b[0m\u001b[1;33m[\u001b[0m\u001b[1;36m1\u001b[0m\u001b[1;33m]\u001b[0m\u001b[1;33m\u001b[0m\u001b[0m\n\u001b[0;32m     65\u001b[0m     \u001b[0mpoints\u001b[0m \u001b[1;33m=\u001b[0m \u001b[0mpoints\u001b[0m\u001b[1;33m[\u001b[0m\u001b[1;36m1\u001b[0m\u001b[1;33m]\u001b[0m\u001b[1;33m\u001b[0m\u001b[0m\n",
      "\u001b[1;32m/home/tanner/anaconda/lib/python2.7/site-packages/numpy/lib/npyio.pyc\u001b[0m in \u001b[0;36mload\u001b[1;34m(file, mmap_mode)\u001b[0m\n\u001b[0;32m    367\u001b[0m     \u001b[0mown_fid\u001b[0m \u001b[1;33m=\u001b[0m \u001b[0mFalse\u001b[0m\u001b[1;33m\u001b[0m\u001b[0m\n\u001b[0;32m    368\u001b[0m     \u001b[1;32mif\u001b[0m \u001b[0misinstance\u001b[0m\u001b[1;33m(\u001b[0m\u001b[0mfile\u001b[0m\u001b[1;33m,\u001b[0m \u001b[0mbasestring\u001b[0m\u001b[1;33m)\u001b[0m\u001b[1;33m:\u001b[0m\u001b[1;33m\u001b[0m\u001b[0m\n\u001b[1;32m--> 369\u001b[1;33m         \u001b[0mfid\u001b[0m \u001b[1;33m=\u001b[0m \u001b[0mopen\u001b[0m\u001b[1;33m(\u001b[0m\u001b[0mfile\u001b[0m\u001b[1;33m,\u001b[0m \u001b[1;34m\"rb\"\u001b[0m\u001b[1;33m)\u001b[0m\u001b[1;33m\u001b[0m\u001b[0m\n\u001b[0m\u001b[0;32m    370\u001b[0m         \u001b[0mown_fid\u001b[0m \u001b[1;33m=\u001b[0m \u001b[0mTrue\u001b[0m\u001b[1;33m\u001b[0m\u001b[0m\n\u001b[0;32m    371\u001b[0m     \u001b[1;32melif\u001b[0m \u001b[0misinstance\u001b[0m\u001b[1;33m(\u001b[0m\u001b[0mfile\u001b[0m\u001b[1;33m,\u001b[0m \u001b[0mgzip\u001b[0m\u001b[1;33m.\u001b[0m\u001b[0mGzipFile\u001b[0m\u001b[1;33m)\u001b[0m\u001b[1;33m:\u001b[0m\u001b[1;33m\u001b[0m\u001b[0m\n",
      "\u001b[1;31mIOError\u001b[0m: [Errno 2] No such file or directory: 'C:/Users/Tanner/Desktop/Work/PostalData.npz'"
     ]
    }
   ],
   "source": [
    "problem4_2(1)"
   ]
  },
  {
   "cell_type": "code",
   "execution_count": 3,
   "metadata": {
    "collapsed": true
   },
   "outputs": [],
   "source": [
    "from matplotlib import pyplot as plt"
   ]
  },
  {
   "cell_type": "code",
   "execution_count": 4,
   "metadata": {
    "collapsed": true
   },
   "outputs": [],
   "source": [
    "import numpy as np"
   ]
  },
  {
   "cell_type": "code",
   "execution_count": 9,
   "metadata": {
    "collapsed": true
   },
   "outputs": [],
   "source": [
    "theta = np.linspace(0, 2*np.pi - 2*np.pi/9, 9)"
   ]
  },
  {
   "cell_type": "code",
   "execution_count": 6,
   "metadata": {
    "collapsed": false
   },
   "outputs": [
    {
     "data": {
      "text/plain": [
       "9"
      ]
     },
     "execution_count": 6,
     "metadata": {},
     "output_type": "execute_result"
    }
   ],
   "source": [
    "len(theta)"
   ]
  },
  {
   "cell_type": "code",
   "execution_count": 36,
   "metadata": {
    "collapsed": true
   },
   "outputs": [],
   "source": [
    "P_perm = np.copy(P1)"
   ]
  },
  {
   "cell_type": "code",
   "execution_count": 39,
   "metadata": {
    "collapsed": false
   },
   "outputs": [],
   "source": [
    "P1 = np.array([[103,68],[87,109],[49,132],[6,127],[-18,47],[-26,90],[5,11],[49,3],[87,26]])"
   ]
  },
  {
   "cell_type": "code",
   "execution_count": 77,
   "metadata": {
    "collapsed": false
   },
   "outputs": [],
   "source": [
    "P1[2] = [49,132]"
   ]
  },
  {
   "cell_type": "code",
   "execution_count": 29,
   "metadata": {
    "collapsed": true
   },
   "outputs": [],
   "source": [
    "from scipy import linalg as la"
   ]
  },
  {
   "cell_type": "code",
   "execution_count": 99,
   "metadata": {
    "collapsed": false
   },
   "outputs": [],
   "source": [
    "A = np.hstack((2*P1, np.ones((9,1))))\n",
    "b = (P1**2).sum(axis=1)\n",
    "c1, c2, c3 = la.lstsq(A, b)[0]\n",
    "r = np.sqrt(c1**2 + c2**2 + c3)\n",
    "theta = np.linspace(0,2*np.pi,200)\n",
    "plt.plot(r*np.cos(theta)+c1,r*np.sin(theta)+c2,'-',P1[:,0],P1[:,1],'*')\n",
    "plt.axes().set_aspect('equal', 'datalim')\n",
    "plt.show()"
   ]
  },
  {
   "cell_type": "code",
   "execution_count": 91,
   "metadata": {
    "collapsed": false
   },
   "outputs": [],
   "source": [
    "for i in P1:\n",
    "    list(P1[0])\n"
   ]
  },
  {
   "cell_type": "code",
   "execution_count": 80,
   "metadata": {
    "collapsed": true
   },
   "outputs": [],
   "source": [
    "temp = P1[0]\n",
    "P1[0] = P1[6]\n",
    "P1[6] = temp"
   ]
  },
  {
   "cell_type": "code",
   "execution_count": 83,
   "metadata": {
    "collapsed": false
   },
   "outputs": [
    {
     "data": {
      "text/plain": [
       "9"
      ]
     },
     "execution_count": 83,
     "metadata": {},
     "output_type": "execute_result"
    }
   ],
   "source": [
    "len(P1)"
   ]
  },
  {
   "cell_type": "code",
   "execution_count": 87,
   "metadata": {
    "collapsed": false
   },
   "outputs": [
    {
     "data": {
      "text/plain": [
       "array([ 5, 11])"
      ]
     },
     "execution_count": 87,
     "metadata": {},
     "output_type": "execute_result"
    }
   ],
   "source": [
    "temp"
   ]
  },
  {
   "cell_type": "code",
   "execution_count": 88,
   "metadata": {
    "collapsed": true
   },
   "outputs": [],
   "source": [
    "P1[6] = [103,68]"
   ]
  },
  {
   "cell_type": "code",
   "execution_count": 95,
   "metadata": {
    "collapsed": false
   },
   "outputs": [
    {
     "data": {
      "text/plain": [
       "array([[  5,  11],\n",
       "       [ 93, 110],\n",
       "       [ 49, 132],\n",
       "       [  4, 128],\n",
       "       [-23,  47],\n",
       "       [-26,  92],\n",
       "       [103,  68],\n",
       "       [ 48,   0],\n",
       "       [ 86,  21]])"
      ]
     },
     "execution_count": 95,
     "metadata": {},
     "output_type": "execute_result"
    }
   ],
   "source": [
    "np.array(P1)"
   ]
  },
  {
   "cell_type": "code",
   "execution_count": 97,
   "metadata": {
    "collapsed": false
   },
   "outputs": [
    {
     "name": "stdout",
     "output_type": "stream",
     "text": [
      "[-26   0]\n",
      "[ 11 110 132 128  47  92 103  48  86]\n",
      "[-26   0]\n",
      "[ 11 110 132 128  47  92 103  48  86]\n"
     ]
    }
   ],
   "source": [
    "print np.min(P1,axis=0)\n",
    "print np.max(P1,axis=1)\n",
    "print np.min(P1,axis=0)\n",
    "print np.max(P1,axis=1)"
   ]
  },
  {
   "cell_type": "code",
   "execution_count": null,
   "metadata": {
    "collapsed": true
   },
   "outputs": [],
   "source": [
    "#min_x = -26\n",
    "#min_y = 0\n",
    "#max_x = 103\n",
    "#max_y = 132"
   ]
  }
 ],
 "metadata": {
  "kernelspec": {
   "display_name": "Python 2",
   "language": "python",
   "name": "python2"
  },
  "language_info": {
   "codemirror_mode": {
    "name": "ipython",
    "version": 2
   },
   "file_extension": ".py",
   "mimetype": "text/x-python",
   "name": "python",
   "nbconvert_exporter": "python",
   "pygments_lexer": "ipython2",
   "version": "2.7.9"
  }
 },
 "nbformat": 4,
 "nbformat_minor": 0
}
