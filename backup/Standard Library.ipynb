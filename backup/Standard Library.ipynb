{
 "cells": [
  {
   "cell_type": "code",
   "execution_count": 4,
   "metadata": {
    "collapsed": true
   },
   "outputs": [],
   "source": [
    "'''\n",
    "Problem 1. Write a function that accepts a list of numbers as input and returns a \n",
    "list with the minimum, maximum, and average of the original list.  Remember to use \n",
    "floating point division to calculate the average.\n",
    "'''\n",
    "\n",
    "def problem1(array):\n",
    "    return [min(array), max(array), sum(array)/float(len(array))]"
   ]
  },
  {
   "cell_type": "code",
   "execution_count": 8,
   "metadata": {
    "collapsed": false
   },
   "outputs": [
    {
     "name": "stdout",
     "output_type": "stream",
     "text": [
      "num1 = 6\n",
      "num2 = 5\n"
     ]
    }
   ],
   "source": [
    "'''\n",
    "Problem 2. numbers, strings, lists, tuples, dictionaries\n",
    "'''\n",
    "num1 = 5\n",
    "num2 = num1\n",
    "num1 += 1\n",
    "print \"num1 = \" + str(num1)\n",
    "print \"num2 = \" + str(num2)\n",
    "#different\n",
    "#immutable\n",
    "\n",
    "str1 = \"string\"\n",
    "str2 = str1\n",
    "str1 += \"a\"\n",
    "print \"str1 = \" + str1\n",
    "print \"str2 = \" + str2\n",
    "#different\n",
    "#immutable\n",
    "\n",
    "list1 = [1,2,3]\n",
    "list2 = list1\n",
    "list1.append(1)\n",
    "print list1\n",
    "print list2\n",
    "#same\n",
    "#mutable\n",
    "\n",
    "tuple1 = (1,2)\n",
    "tuple2 = tuple1\n",
    "tuple1 += (3,)\n",
    "print tuple1\n",
    "print tuple2\n",
    "#different\n",
    "#immutable\n",
    "\n",
    "dict1 = {1:\"a\", 2:\"b\", 3:\"c\"}\n",
    "dict2 = dict1\n",
    "dict1[4] = \"d\"\n",
    "print dict1\n",
    "print dict2\n",
    "#same\n",
    "#mutable"
   ]
  },
  {
   "cell_type": "code",
   "execution_count": 3,
   "metadata": {
    "collapsed": false
   },
   "outputs": [
    {
     "data": {
      "text/plain": [
       "5.0"
      ]
     },
     "execution_count": 3,
     "metadata": {},
     "output_type": "execute_result"
    }
   ],
   "source": [
    "'''\n",
    "Problem 3.  Create calculate.py with the following code:\n",
    "\n",
    "from math import sqrt\n",
    "\n",
    "def add(x,y):\n",
    "    return x + y\n",
    "\n",
    "def multiply(x,y):\n",
    "    return x * y\n",
    "\n",
    "def square_root(x):\n",
    "    return sqrt(x)\n",
    "\n",
    "Using the functions defined in the module, write a new function that\n",
    "calculates the length of the hypotenuse of a triangle given the lengths of the other two side.\n",
    "'''\n",
    "\n",
    "import calculate\n",
    "\n",
    "def hyp(a,b):\n",
    "    return calculate.square_root(calculate.add(calculate.multiply(a,a),calculate.multiply(b,b)))\n",
    "\n",
    "hyp(3,4)\n"
   ]
  },
  {
   "cell_type": "code",
   "execution_count": 27,
   "metadata": {
    "collapsed": false
   },
   "outputs": [],
   "source": [
    "'''\n",
    "Problem 4\n",
    "\n",
    "The following text should be saved as a separate python file and run from the command line\n",
    "\n",
    "import sys\n",
    "import matrix_multiply\n",
    "import time\n",
    "\n",
    "output = []\n",
    "\n",
    "if len(sys.argv) == 1:\n",
    "    print \"No Input\"\n",
    "elif sys.argv[1] != \"matrices.npz\":\n",
    "    print \"Invalid Input\"\n",
    "else:    \n",
    "    A,B = matrix_multiply.load_matrices(sys.argv[1])\n",
    "    \n",
    "    m1_time1 = time.time()\n",
    "    matrix_multiply.method1(A,B)\n",
    "    m1_time2 = time.time()\n",
    "    \n",
    "    output.append(m1_time2 - m1_time1)\n",
    "    \n",
    "    m2_time1 = time.time()\n",
    "    matrix_multiply.method2(A,B)\n",
    "    m2_time2 = time.time()\n",
    "    \n",
    "    output.append(m2_time2 - m2_time1)\n",
    "    \n",
    "    m3_time1 = time.time()\n",
    "    matrix_multiply.method3(A,B)\n",
    "    m3_time2 = time.time()\n",
    "    \n",
    "    output.append(m3_time2 - m3_time1)\n",
    "    \n",
    "    print output\n",
    "'''"
   ]
  },
  {
   "cell_type": "code",
   "execution_count": null,
   "metadata": {
    "collapsed": true
   },
   "outputs": [],
   "source": []
  },
  {
   "cell_type": "code",
   "execution_count": null,
   "metadata": {
    "collapsed": false
   },
   "outputs": [],
   "source": []
  },
  {
   "cell_type": "code",
   "execution_count": null,
   "metadata": {
    "collapsed": true
   },
   "outputs": [],
   "source": []
  },
  {
   "cell_type": "code",
   "execution_count": null,
   "metadata": {
    "collapsed": false
   },
   "outputs": [],
   "source": []
  },
  {
   "cell_type": "code",
   "execution_count": null,
   "metadata": {
    "collapsed": true
   },
   "outputs": [],
   "source": []
  },
  {
   "cell_type": "code",
   "execution_count": null,
   "metadata": {
    "collapsed": false
   },
   "outputs": [],
   "source": []
  },
  {
   "cell_type": "code",
   "execution_count": null,
   "metadata": {
    "collapsed": true
   },
   "outputs": [],
   "source": []
  }
 ],
 "metadata": {
  "kernelspec": {
   "display_name": "Python 2",
   "language": "python",
   "name": "python2"
  },
  "language_info": {
   "codemirror_mode": {
    "name": "ipython",
    "version": 2
   },
   "file_extension": ".py",
   "mimetype": "text/x-python",
   "name": "python",
   "nbconvert_exporter": "python",
   "pygments_lexer": "ipython2",
   "version": "2.7.9"
  }
 },
 "nbformat": 4,
 "nbformat_minor": 0
}
