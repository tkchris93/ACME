{
 "cells": [
  {
   "cell_type": "code",
   "execution_count": 23,
   "metadata": {
    "collapsed": true
   },
   "outputs": [],
   "source": [
    "import numpy as np\n",
    "from scipy import linalg as la\n",
    "from matplotlib import pyplot as plt\n",
    "\n",
    "def plotOldNew(old, new):\n",
    "    '''Inputs:\n",
    "    new -- a (2,n) numpy array containing x-coordinates on the first row and y-coordinates on the second row.\n",
    "    old -- a (2,n) numpy array containing x-coordinates on the first row and y-coordinates on the second row.\n",
    "    '''\n",
    "    v = [-150,150,-150,150]\n",
    "    plt.subplot(2, 1, 1)\n",
    "    plt.scatter(old[0], old[1])\n",
    "    plt.axis(v)\n",
    "    plt.subplot(2, 1, 2)\n",
    "    plt.scatter(new[0], new[1])\n",
    "    plt.axis(v)\n",
    "    plt.show()"
   ]
  },
  {
   "cell_type": "code",
   "execution_count": 9,
   "metadata": {
    "collapsed": true
   },
   "outputs": [],
   "source": [
    "pi = np.load(\"pi.npy\")\n",
    "pi = pi.T"
   ]
  },
  {
   "cell_type": "code",
   "execution_count": 10,
   "metadata": {
    "collapsed": false
   },
   "outputs": [],
   "source": [
    "def dilation2D(array, x_factor, y_factor):\n",
    "    T = np.array([[x_factor,0],[0,y_factor]])\n",
    "    return T.dot(array)\n",
    "    "
   ]
  },
  {
   "cell_type": "code",
   "execution_count": 16,
   "metadata": {
    "collapsed": true
   },
   "outputs": [],
   "source": [
    "def rotate2D(array, theta):\n",
    "    T = np.array([[np.cos(theta),-np.sin(theta)],[np.sin(theta),np.cos(theta)]])\n",
    "    return T.dot(array)"
   ]
  },
  {
   "cell_type": "code",
   "execution_count": 17,
   "metadata": {
    "collapsed": true
   },
   "outputs": [],
   "source": [
    "rotated_pi = rotate2D(pi, np.pi/3)"
   ]
  },
  {
   "cell_type": "code",
   "execution_count": 18,
   "metadata": {
    "collapsed": false
   },
   "outputs": [],
   "source": [
    "plotOldNew(pi, rotated_pi)"
   ]
  },
  {
   "cell_type": "code",
   "execution_count": 19,
   "metadata": {
    "collapsed": true
   },
   "outputs": [],
   "source": [
    "def translate2D(array, b):\n",
    "    '''\n",
    "    array - (2,x)\n",
    "    b - np.ndarray of size 2x1\n",
    "    '''\n",
    "    return array + b\n",
    "    "
   ]
  },
  {
   "cell_type": "code",
   "execution_count": 21,
   "metadata": {
    "collapsed": false
   },
   "outputs": [],
   "source": [
    "translated_pi = translate2D(pi, np.array([[50],[0]]))"
   ]
  },
  {
   "cell_type": "code",
   "execution_count": 22,
   "metadata": {
    "collapsed": true
   },
   "outputs": [],
   "source": [
    "plotOldNew(pi,translated_pi)"
   ]
  },
  {
   "cell_type": "code",
   "execution_count": 37,
   "metadata": {
    "collapsed": false
   },
   "outputs": [],
   "source": [
    "def rotatingParticle(time,omega,direction,speed):\n",
    "    direction = np.array(direction)\n",
    "    direction.reshape((2,1))\n",
    "    t = np.linspace(time[0],time[1],100)\n",
    "    start_P1 = [1,0]\n",
    "    x = []\n",
    "    y = []\n",
    "    for i in xrange(len(t)):\n",
    "        pos_P2 = ((t[i]*speed)/la.norm(direction))*direction\n",
    "        pos_P1 = translate2D(rotate2D(start_P1, t[i]*omega), pos_P2)\n",
    "        x.append(pos_P1[0])\n",
    "        y.append(pos_P1[1])\n",
    "    plt.plot(x,y)\n",
    "    plt.axis('equal')\n",
    "    plt.show()"
   ]
  },
  {
   "cell_type": "code",
   "execution_count": 41,
   "metadata": {
    "collapsed": false
   },
   "outputs": [],
   "source": [
    "def type_I(A, i, j):\n",
    "    # Swap two rows\n",
    "    A[i], A[j] = np.copy(A[j]), np.copy(A[i])\n",
    "\n",
    "def type_II(A, i, const):\n",
    "    # Multiply row j of A by const\n",
    "    A[i] *= const\n",
    "\n",
    "def type_III(A, i, j, const):\n",
    "    # Add a constant times row j to row i\n",
    "    A[i] += const*A[j]"
   ]
  },
  {
   "cell_type": "code",
   "execution_count": 57,
   "metadata": {
    "collapsed": false
   },
   "outputs": [],
   "source": [
    "def REF(A):\n",
    "    m,n = A.shape\n",
    "    for i in xrange(0,m-1):\n",
    "        for j in xrange(1+i,m):\n",
    "            A[j,i:] -= (A[j,i]/A[i,i]) * A[i,i:]\n",
    "    return A"
   ]
  },
  {
   "cell_type": "code",
   "execution_count": 59,
   "metadata": {
    "collapsed": false
   },
   "outputs": [],
   "source": [
    "def LU(A):\n",
    "    m,n = A.shape\n",
    "    U = np.copy(A)\n",
    "    L = np.eye(n)\n",
    "    for j in xrange(0,n):\n",
    "        for i in xrange(j+1,m):\n",
    "            L[i,j] = U[i,j]/U[j,j]\n",
    "            U[i,j:] = U[i,j:] - L[i,j]*U[j,j:]\n",
    "    return L,U"
   ]
  },
  {
   "cell_type": "code",
   "execution_count": null,
   "metadata": {
    "collapsed": true
   },
   "outputs": [],
   "source": [
    "#Problem 10\n",
    "'''\n",
    "* la.lu_factor(A) = 338ms\n",
    "* la.inv(A) = 990ms\n",
    "* la.lu_solve(LU,B) = 468ms\n",
    "* A_inv * B = 422ms\n",
    "'''"
   ]
  },
  {
   "cell_type": "code",
   "execution_count": 102,
   "metadata": {
    "collapsed": false
   },
   "outputs": [],
   "source": [
    "B = []\n",
    "for i in xrange(500000):\n",
    "    B.append(np.random.randint(-10,10))\n",
    "B = np.array(B,dtype = float)\n",
    "B = B.reshape((1000,500))"
   ]
  },
  {
   "cell_type": "code",
   "execution_count": null,
   "metadata": {
    "collapsed": false
   },
   "outputs": [],
   "source": []
  },
  {
   "cell_type": "code",
   "execution_count": null,
   "metadata": {
    "collapsed": false
   },
   "outputs": [],
   "source": []
  },
  {
   "cell_type": "code",
   "execution_count": null,
   "metadata": {
    "collapsed": false
   },
   "outputs": [],
   "source": []
  },
  {
   "cell_type": "code",
   "execution_count": null,
   "metadata": {
    "collapsed": false
   },
   "outputs": [],
   "source": []
  },
  {
   "cell_type": "code",
   "execution_count": null,
   "metadata": {
    "collapsed": false
   },
   "outputs": [],
   "source": []
  },
  {
   "cell_type": "code",
   "execution_count": null,
   "metadata": {
    "collapsed": false
   },
   "outputs": [],
   "source": []
  },
  {
   "cell_type": "code",
   "execution_count": null,
   "metadata": {
    "collapsed": false
   },
   "outputs": [],
   "source": []
  },
  {
   "cell_type": "code",
   "execution_count": null,
   "metadata": {
    "collapsed": false
   },
   "outputs": [],
   "source": []
  },
  {
   "cell_type": "code",
   "execution_count": null,
   "metadata": {
    "collapsed": true
   },
   "outputs": [],
   "source": []
  },
  {
   "cell_type": "code",
   "execution_count": null,
   "metadata": {
    "collapsed": true
   },
   "outputs": [],
   "source": []
  },
  {
   "cell_type": "code",
   "execution_count": null,
   "metadata": {
    "collapsed": true
   },
   "outputs": [],
   "source": []
  },
  {
   "cell_type": "code",
   "execution_count": null,
   "metadata": {
    "collapsed": true
   },
   "outputs": [],
   "source": []
  }
 ],
 "metadata": {
  "kernelspec": {
   "display_name": "Python 2",
   "language": "python",
   "name": "python2"
  },
  "language_info": {
   "codemirror_mode": {
    "name": "ipython",
    "version": 2
   },
   "file_extension": ".py",
   "mimetype": "text/x-python",
   "name": "python",
   "nbconvert_exporter": "python",
   "pygments_lexer": "ipython2",
   "version": "2.7.9"
  }
 },
 "nbformat": 4,
 "nbformat_minor": 0
}
