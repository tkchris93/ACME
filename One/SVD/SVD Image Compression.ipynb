{
 "cells": [
  {
   "cell_type": "code",
   "execution_count": 9,
   "metadata": {
    "collapsed": false
   },
   "outputs": [],
   "source": [
    "import numpy as np\n",
    "from matplotlib import pyplot as plt\n",
    "from matplotlib import cm\n",
    "from scipy import linalg as la"
   ]
  },
  {
   "cell_type": "code",
   "execution_count": 5,
   "metadata": {
    "collapsed": false
   },
   "outputs": [],
   "source": [
    "def svd_approx(A, k):\n",
    "    '''\n",
    "    A - np.ndarray of size mxn\n",
    "    k - rank \n",
    "    \n",
    "    returns best rank k approximation to A with respect to the induced 2-norm\n",
    "    '''\n",
    "    U,s,Vt = la.svd(A, full_matrices=False)\n",
    "    S = np.diag(s[:k])\n",
    "    Ahat = U[:,:k].dot(S).dot(Vt[:k,:])\n",
    "    print norm(A-Ahat)\n",
    "    return Ahat\n",
    "\n",
    "def lowest_rank_approx(A,e):\n",
    "    U,s,Vt = la.svd(A, full_matrices=False)\n",
    "    k = np.where(s<e)[0][0]\n",
    "    S = np.diag(s[:k])\n",
    "    return U[:,:k].dot(S).dot(Vt[:k,:])\n",
    "\n",
    "img_red = plt.imread(\"hubble_image.png\")[:,:,0].astype(float)\n",
    "img_green = plt.imread(\"hubble_image.png\")[:,:,1].astype(float)\n",
    "img_blue = plt.imread(\"hubble_image.png\")[:,:,2].astype(float)\n",
    "\n",
    "original_img = plt.imread(\"hubble_image.png\").astype(float)\n",
    "\n",
    "e = 200\n",
    "\n",
    "img = np.copy(original_img)\n",
    "img[:,:,0] = lowest_rank_approx(img_red, e)\n",
    "img[:,:,1] = lowest_rank_approx(img_green, e)\n",
    "img[:,:,2] = lowest_rank_approx(img_blue, e)\n",
    "\n",
    "img = np.round(img)\n",
    "\n",
    "plt.subplot(1,2,1)\n",
    "plt.imshow(original_img)\n",
    "\n",
    "plt.subplot(1,2,2)\n",
    "plt.imshow(img)\n",
    "\n",
    "plt.show()"
   ]
  },
  {
   "cell_type": "code",
   "execution_count": 6,
   "metadata": {
    "collapsed": true
   },
   "outputs": [],
   "source": [
    "plt.imshow(img[:,:,0])\n",
    "plt.show()"
   ]
  },
  {
   "cell_type": "code",
   "execution_count": 10,
   "metadata": {
    "collapsed": false
   },
   "outputs": [],
   "source": [
    "plt.imshow(img_red,cmap = cm.gray)\n",
    "plt.show()"
   ]
  },
  {
   "cell_type": "code",
   "execution_count": 16,
   "metadata": {
    "collapsed": false
   },
   "outputs": [],
   "source": [
    "original = original_img[:,:,:-1]"
   ]
  },
  {
   "cell_type": "code",
   "execution_count": 17,
   "metadata": {
    "collapsed": true
   },
   "outputs": [],
   "source": [
    "original2 = 255*original"
   ]
  },
  {
   "cell_type": "code",
   "execution_count": 20,
   "metadata": {
    "collapsed": false
   },
   "outputs": [],
   "source": [
    "original2 = np.round(original2)"
   ]
  },
  {
   "cell_type": "code",
   "execution_count": 21,
   "metadata": {
    "collapsed": true
   },
   "outputs": [],
   "source": [
    "plt.imshow(original2)\n",
    "plt.show()"
   ]
  },
  {
   "cell_type": "code",
   "execution_count": 23,
   "metadata": {
    "collapsed": false
   },
   "outputs": [],
   "source": [
    "plt.imshow(original)\n",
    "plt.show()"
   ]
  },
  {
   "cell_type": "code",
   "execution_count": 24,
   "metadata": {
    "collapsed": true
   },
   "outputs": [],
   "source": [
    "red_orig = original[:,:,0]"
   ]
  },
  {
   "cell_type": "code",
   "execution_count": 25,
   "metadata": {
    "collapsed": true
   },
   "outputs": [],
   "source": [
    "red_compressed = lowest_rank_approx(red_orig, 200)"
   ]
  },
  {
   "cell_type": "code",
   "execution_count": 26,
   "metadata": {
    "collapsed": true
   },
   "outputs": [],
   "source": [
    "plt.imshow(red_compressed)\n",
    "plt.show()"
   ]
  },
  {
   "cell_type": "code",
   "execution_count": 35,
   "metadata": {
    "collapsed": false
   },
   "outputs": [
    {
     "data": {
      "text/plain": [
       "array([[[ 79.,  46.,  41.],\n",
       "        [ 83.,  50.,  43.],\n",
       "        [ 89.,  52.,  46.],\n",
       "        ..., \n",
       "        [ 56.,  36.,  25.],\n",
       "        [ 61.,  41.,  30.],\n",
       "        [ 64.,  44.,  33.]],\n",
       "\n",
       "       [[ 82.,  47.,  43.],\n",
       "        [ 84.,  49.,  43.],\n",
       "        [ 87.,  50.,  42.],\n",
       "        ..., \n",
       "        [ 53.,  33.,  22.],\n",
       "        [ 57.,  37.,  26.],\n",
       "        [ 60.,  40.,  29.]],\n",
       "\n",
       "       [[ 88.,  51.,  45.],\n",
       "        [ 86.,  49.,  41.],\n",
       "        [ 87.,  47.,  37.],\n",
       "        ..., \n",
       "        [ 52.,  32.,  21.],\n",
       "        [ 55.,  35.,  24.],\n",
       "        [ 58.,  38.,  27.]],\n",
       "\n",
       "       ..., \n",
       "       [[ 38.,  33.,  29.],\n",
       "        [ 20.,  15.,  11.],\n",
       "        [ 29.,  24.,  20.],\n",
       "        ..., \n",
       "        [ 57.,  29.,  25.],\n",
       "        [ 60.,  32.,  28.],\n",
       "        [ 63.,  35.,  31.]],\n",
       "\n",
       "       [[ 18.,  13.,   7.],\n",
       "        [ 18.,  13.,   7.],\n",
       "        [ 27.,  22.,  18.],\n",
       "        ..., \n",
       "        [ 57.,  29.,  25.],\n",
       "        [ 58.,  30.,  26.],\n",
       "        [ 59.,  31.,  27.]],\n",
       "\n",
       "       [[ 13.,   8.,   2.],\n",
       "        [ 23.,  18.,  12.],\n",
       "        [ 24.,  19.,  15.],\n",
       "        ..., \n",
       "        [ 58.,  30.,  26.],\n",
       "        [ 56.,  28.,  24.],\n",
       "        [ 54.,  26.,  22.]]])"
      ]
     },
     "execution_count": 35,
     "metadata": {},
     "output_type": "execute_result"
    }
   ],
   "source": [
    "original2"
   ]
  },
  {
   "cell_type": "code",
   "execution_count": 37,
   "metadata": {
    "collapsed": false
   },
   "outputs": [],
   "source": [
    "adjusted = 255 - original2"
   ]
  },
  {
   "cell_type": "code",
   "execution_count": 39,
   "metadata": {
    "collapsed": false
   },
   "outputs": [],
   "source": [
    "plt.subplot(1,3,1)\n",
    "plt.imshow(original)\n",
    "\n",
    "plt.subplot(1,3,2)\n",
    "plt.imshow(original2)\n",
    "\n",
    "plt.subplot(1,3,3)\n",
    "plt.imshow(adjusted)\n",
    "\n",
    "plt.show()"
   ]
  },
  {
   "cell_type": "code",
   "execution_count": null,
   "metadata": {
    "collapsed": true
   },
   "outputs": [],
   "source": []
  }
 ],
 "metadata": {
  "kernelspec": {
   "display_name": "Python 2",
   "language": "python",
   "name": "python2"
  },
  "language_info": {
   "codemirror_mode": {
    "name": "ipython",
    "version": 2
   },
   "file_extension": ".py",
   "mimetype": "text/x-python",
   "name": "python",
   "nbconvert_exporter": "python",
   "pygments_lexer": "ipython2",
   "version": "2.7.9"
  }
 },
 "nbformat": 4,
 "nbformat_minor": 0
}
