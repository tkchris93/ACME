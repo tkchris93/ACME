{
 "cells": [
  {
   "cell_type": "code",
   "execution_count": 1,
   "metadata": {
    "collapsed": true
   },
   "outputs": [],
   "source": [
    "from __future__ import division\n",
    "import numpy as np\n",
    "from scipy import linalg as la"
   ]
  },
  {
   "cell_type": "code",
   "execution_count": 61,
   "metadata": {
    "collapsed": true
   },
   "outputs": [],
   "source": [
    "from numba import jit"
   ]
  },
  {
   "cell_type": "code",
   "execution_count": 104,
   "metadata": {
    "collapsed": false
   },
   "outputs": [],
   "source": [
    "@jit\n",
    "def jacobi_method(A, b, maxiters=10000, tol=0.0001):\n",
    "    n = A.shape[0]\n",
    "    x0 = np.zeros(n)\n",
    "    x1 = np.ones(n)\n",
    "    k = 0\n",
    "    while np.max(np.abs(x0-x1)) > tol:\n",
    "        k += 1\n",
    "        temp = np.copy(x1)\n",
    "        for i in xrange(n):\n",
    "            s = 0\n",
    "            for j in xrange(n):\n",
    "                if j != i:\n",
    "                    s += A[i,j]*x0[j]\n",
    "            x1[i] = (b[i] - s)/A[i,i]\n",
    "        x0 = temp\n",
    "        if k > maxiters:\n",
    "            print(\"Hit maxiters!\")\n",
    "            return x1\n",
    "    print(k)\n",
    "    return x1"
   ]
  },
  {
   "cell_type": "code",
   "execution_count": 3,
   "metadata": {
    "collapsed": true
   },
   "outputs": [],
   "source": [
    "A = np.random.random_integers(-9,9,9).astype(float).reshape(3,3)\n",
    "np.fill_diagonal(A,5*np.diag(A))\n",
    "A //= 10"
   ]
  },
  {
   "cell_type": "code",
   "execution_count": 25,
   "metadata": {
    "collapsed": false
   },
   "outputs": [
    {
     "data": {
      "text/plain": [
       "array([[-7.,  0., -1.],\n",
       "       [-1., -4., -1.],\n",
       "       [ 0., -1., -4.]])"
      ]
     },
     "execution_count": 25,
     "metadata": {},
     "output_type": "execute_result"
    }
   ],
   "source": []
  },
  {
   "cell_type": "code",
   "execution_count": 24,
   "metadata": {
    "collapsed": false
   },
   "outputs": [],
   "source": [
    "b = np.random.random_integers(-9,9,3).astype(float)"
   ]
  },
  {
   "cell_type": "code",
   "execution_count": 115,
   "metadata": {
    "collapsed": false
   },
   "outputs": [
    {
     "name": "stdout",
     "output_type": "stream",
     "text": [
      "CPU times: user 4 ms, sys: 12 ms, total: 16 ms\n",
      "Wall time: 5.11 ms\n"
     ]
    },
    {
     "data": {
      "text/plain": [
       "array([-1.0471303 ,  0.98036419,  0.19016231,  0.17989796, -0.54289434,\n",
       "       -1.16946016, -0.18770944,  1.04127559, -0.90655208,  1.42893666,\n",
       "       -1.40931827, -0.22341695, -1.06068466,  0.79234774, -0.90231416,\n",
       "        0.86886328, -0.87529529,  0.20475056,  2.52916415, -0.55695449,\n",
       "       -0.58969905, -0.41646234,  1.54099098,  1.92910538,  1.17368709,\n",
       "       -0.34288519, -1.68396665, -0.10465555, -0.18544163, -0.22548657,\n",
       "        0.44476016, -0.61326861, -0.181383  ,  1.23039573,  1.47474508,\n",
       "       -1.52495166, -0.57822291, -0.57675757, -0.68857167, -2.66375051,\n",
       "       -0.12198918, -0.35029377, -0.7834366 ,  0.55521765, -2.00992383,\n",
       "        0.06126542, -2.58215602,  0.37255092, -0.19928386, -2.03533067,\n",
       "        2.98216862, -1.62274317, -1.04713667, -1.01511988, -1.43480878,\n",
       "        0.79294091, -0.19998745,  1.34905848, -2.00590757,  0.54021791,\n",
       "       -1.93866089,  0.41339508, -0.6394065 ,  0.15750098, -0.00921421,\n",
       "       -0.15865276,  0.72897337,  0.89206674,  1.14986265, -0.49234351,\n",
       "        0.7612604 , -0.01147842,  1.37181082,  0.69613989,  1.05144684,\n",
       "        2.25053335, -0.54951189,  0.32288598,  0.3300361 ,  0.84336232,\n",
       "       -0.88992403,  0.86719788,  2.79898788, -0.79016762,  0.03802791,\n",
       "       -0.78268306,  1.2600869 , -0.30774363,  1.50354584, -0.99457385,\n",
       "        2.03157165, -0.23566618,  0.47949593,  1.12819088, -0.2914535 ,\n",
       "       -1.33369835, -0.81681327, -0.03775677, -0.86003268, -0.80582075])"
      ]
     },
     "execution_count": 115,
     "metadata": {},
     "output_type": "execute_result"
    }
   ],
   "source": [
    "%time la.inv(B).dot(c)"
   ]
  },
  {
   "cell_type": "code",
   "execution_count": 117,
   "metadata": {
    "collapsed": false
   },
   "outputs": [
    {
     "name": "stdout",
     "output_type": "stream",
     "text": [
      "2272\n",
      "\n",
      "CPU times: user 7.53 s, sys: 12 ms, total: 7.54 s\n",
      "Wall time: 7.43 s\n"
     ]
    },
    {
     "name": "stderr",
     "output_type": "stream",
     "text": [
      "/home/tanner/anaconda2/lib/python2.7/site-packages/ipykernel/__main__.py:1: RuntimeWarning: overflow encountered in double_scalars\n",
      "  if __name__ == '__main__':\n",
      "/home/tanner/anaconda2/lib/python2.7/site-packages/ipykernel/__main__.py:1: RuntimeWarning: invalid value encountered in double_scalars\n",
      "  if __name__ == '__main__':\n"
     ]
    },
    {
     "data": {
      "text/plain": [
       "array([ nan,  nan,  nan,  nan,  nan,  nan,  nan,  nan,  nan,  nan,  nan,\n",
       "        nan,  nan,  nan,  nan,  nan,  nan,  nan,  nan,  nan,  nan,  nan,\n",
       "        nan,  nan,  nan,  nan,  nan,  nan,  nan,  nan,  nan,  nan,  nan,\n",
       "        nan,  nan,  nan,  nan,  nan,  nan,  nan,  nan,  nan,  nan,  nan,\n",
       "        nan,  nan,  nan,  nan,  nan,  nan,  nan,  nan,  nan,  nan,  nan,\n",
       "        nan,  nan,  nan,  nan,  nan,  nan,  nan,  nan,  nan,  nan,  nan,\n",
       "        nan,  nan,  nan,  nan,  nan,  nan,  nan,  nan,  nan,  nan,  nan,\n",
       "        nan,  nan,  nan,  nan,  nan,  nan,  nan,  nan,  nan,  nan,  nan,\n",
       "        nan,  nan,  nan,  nan,  nan,  nan,  nan,  nan,  nan,  nan,  nan,\n",
       "        nan])"
      ]
     },
     "execution_count": 117,
     "metadata": {},
     "output_type": "execute_result"
    }
   ],
   "source": [
    "%time jacobi_method(B,c,tol=0.1)"
   ]
  },
  {
   "cell_type": "code",
   "execution_count": 103,
   "metadata": {
    "collapsed": false
   },
   "outputs": [
    {
     "name": "stdout",
     "output_type": "stream",
     "text": [
      "18\n",
      "\n",
      " "
     ]
    }
   ],
   "source": [
    "%prun jacobi_method(B,c)"
   ]
  },
  {
   "cell_type": "code",
   "execution_count": 111,
   "metadata": {
    "collapsed": false
   },
   "outputs": [],
   "source": [
    "B = np.random.random_integers(-9,9,10000).astype(float).reshape(100,100)\n",
    "B //= 5\n",
    "np.fill_diagonal(B,10*np.diag(B))\n",
    "np.fill_diagonal(B,np.diag(B)+5)"
   ]
  },
  {
   "cell_type": "code",
   "execution_count": 112,
   "metadata": {
    "collapsed": false
   },
   "outputs": [],
   "source": [
    "c = np.random.random_integers(-9,9,100).astype(float)"
   ]
  },
  {
   "cell_type": "code",
   "execution_count": 120,
   "metadata": {
    "collapsed": false
   },
   "outputs": [
    {
     "data": {
      "text/plain": [
       "-4165.0"
      ]
     },
     "execution_count": 120,
     "metadata": {},
     "output_type": "execute_result"
    }
   ],
   "source": [
    "np.sum(B)"
   ]
  },
  {
   "cell_type": "code",
   "execution_count": null,
   "metadata": {
    "collapsed": true
   },
   "outputs": [],
   "source": []
  }
 ],
 "metadata": {
  "kernelspec": {
   "display_name": "Python 2",
   "language": "python",
   "name": "python2"
  },
  "language_info": {
   "codemirror_mode": {
    "name": "ipython",
    "version": 2
   },
   "file_extension": ".py",
   "mimetype": "text/x-python",
   "name": "python",
   "nbconvert_exporter": "python",
   "pygments_lexer": "ipython2",
   "version": "2.7.11"
  }
 },
 "nbformat": 4,
 "nbformat_minor": 0
}
