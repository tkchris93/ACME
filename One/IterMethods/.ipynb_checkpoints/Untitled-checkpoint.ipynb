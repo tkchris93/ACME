{
 "cells": [
  {
   "cell_type": "code",
   "execution_count": 1,
   "metadata": {
    "collapsed": true
   },
   "outputs": [],
   "source": [
    "from __future__ import division\n",
    "import numpy as np\n",
    "from scipy import linalg as la"
   ]
  },
  {
   "cell_type": "code",
   "execution_count": 48,
   "metadata": {
    "collapsed": false
   },
   "outputs": [],
   "source": [
    "def jacobi_method(A, b, maxiters=10000, tol=0.001):\n",
    "    n = A.shape[0]\n",
    "    x0 = np.zeros(n)\n",
    "    x1 = np.ones(n)\n",
    "    k = 0\n",
    "    while np.max(np.abs(x0-x1)) > tol:\n",
    "        k += 1\n",
    "        for i in xrange(n):\n",
    "            s = 0\n",
    "            for j in xrange(n):\n",
    "                if j != i:\n",
    "                    s += A[i,j]*x0[j]\n",
    "            temp = np.copy(x1)\n",
    "            x1[i] = (b[i] - s)/A[i,i]\n",
    "            x0 = temp\n",
    "        if k > maxiters:\n",
    "            print \"Hit maxiters!\"\n",
    "            return x1\n",
    "    print k\n",
    "    return x1"
   ]
  },
  {
   "cell_type": "code",
   "execution_count": 3,
   "metadata": {
    "collapsed": true
   },
   "outputs": [],
   "source": [
    "A = np.random.random_integers(-9,9,9).astype(float).reshape(3,3)\n",
    "np.fill_diagonal(A,5*np.diag(A))\n",
    "A //= 10"
   ]
  },
  {
   "cell_type": "code",
   "execution_count": 25,
   "metadata": {
    "collapsed": false
   },
   "outputs": [
    {
     "data": {
      "text/plain": [
       "array([[-7.,  0., -1.],\n",
       "       [-1., -4., -1.],\n",
       "       [ 0., -1., -4.]])"
      ]
     },
     "execution_count": 25,
     "metadata": {},
     "output_type": "execute_result"
    }
   ],
   "source": []
  },
  {
   "cell_type": "code",
   "execution_count": 24,
   "metadata": {
    "collapsed": false
   },
   "outputs": [],
   "source": [
    "b = np.random.random_integers(-9,9,3).astype(float)"
   ]
  },
  {
   "cell_type": "code",
   "execution_count": 44,
   "metadata": {
    "collapsed": false
   },
   "outputs": [
    {
     "name": "stdout",
     "output_type": "stream",
     "text": [
      "CPU times: user 0 ns, sys: 0 ns, total: 0 ns\n",
      "Wall time: 379 µs\n"
     ]
    },
    {
     "data": {
      "text/plain": [
       "array([-1.62264151, -1.43396226,  2.35849057])"
      ]
     },
     "execution_count": 44,
     "metadata": {},
     "output_type": "execute_result"
    }
   ],
   "source": [
    "%time la.inv(A).dot(b)"
   ]
  },
  {
   "cell_type": "code",
   "execution_count": 50,
   "metadata": {
    "collapsed": false
   },
   "outputs": [
    {
     "name": "stdout",
     "output_type": "stream",
     "text": [
      "0\n",
      "CPU times: user 0 ns, sys: 0 ns, total: 0 ns\n",
      "Wall time: 314 µs\n"
     ]
    },
    {
     "data": {
      "text/plain": [
       "array([ 1.,  1.,  1.])"
      ]
     },
     "execution_count": 50,
     "metadata": {},
     "output_type": "execute_result"
    }
   ],
   "source": [
    "%time jacobi_method(A,b)"
   ]
  },
  {
   "cell_type": "code",
   "execution_count": 49,
   "metadata": {
    "collapsed": false
   },
   "outputs": [
    {
     "name": "stdout",
     "output_type": "stream",
     "text": [
      "0\n",
      " "
     ]
    }
   ],
   "source": [
    "%prun jacobi_method(A,b)"
   ]
  },
  {
   "cell_type": "code",
   "execution_count": null,
   "metadata": {
    "collapsed": true
   },
   "outputs": [],
   "source": []
  }
 ],
 "metadata": {
  "kernelspec": {
   "display_name": "Python 2",
   "language": "python",
   "name": "python2"
  },
  "language_info": {
   "codemirror_mode": {
    "name": "ipython",
    "version": 2
   },
   "file_extension": ".py",
   "mimetype": "text/x-python",
   "name": "python",
   "nbconvert_exporter": "python",
   "pygments_lexer": "ipython2",
   "version": "2.7.11"
  }
 },
 "nbformat": 4,
 "nbformat_minor": 0
}
