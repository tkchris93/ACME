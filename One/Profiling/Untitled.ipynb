{
 "cells": [
  {
   "cell_type": "code",
   "execution_count": null,
   "metadata": {
    "collapsed": true
   },
   "outputs": [],
   "source": [
    "def pytridiag(a, b, c, d):\n",
    "    '''Solve the tridiagonal system Ad = x where A has diagonals a, b, and c.\n",
    "    INPUTS:\n",
    "    a, b, c, x - All 1-D NumPy arrays.\n",
    "    NOTE:\n",
    "    The final result is stored in `x` and `c` is used to store temporary values.\n",
    "    '''\n",
    "    print a\n",
    "    print b\n",
    "    print c\n",
    "    print d\n",
    "    x = np.zeros(len(d))\n",
    "    n = x.size\n",
    "    temp = 0.\n",
    "    c[0] /= b[0]\n",
    "    d[0] /= b[0]\n",
    "    for i in xrange(n-2):\n",
    "        temp = 1. / (b[i+1] - a[i+1] * c[i])\n",
    "        c[i+1] *= temp\n",
    "        d[i+1] = (d[i+1] - a[i+1] * d[i]) * temp\n",
    "    x[-1] = d[-1] \n",
    "    #d[n-1] = (d[n-1] - a[n-2] * d[n-2]) / (b[n-1] - a[n-2] * c[n-2])\n",
    "    for i in xrange(n-2, -1, -1):\n",
    "        x[i] = d[i] - c[i] * d[i+1]\n",
    "    return x"
   ]
  },
  {
   "cell_type": "code",
   "execution_count": null,
   "metadata": {
    "collapsed": true
   },
   "outputs": [],
   "source": [
    "def mytridiag(a,b,c,d):\n",
    "    '''\n",
    "    TDMA solver, a b c d can be NumPy array type or Python list type.\n",
    "    refer to http://en.wikipedia.org/wiki/Tridiagonal_matrix_algorithm\n",
    "    '''\n",
    "    nf = len(a)     # number of equations\n",
    "    ac, bc, cc, dc = map(np.array, (a, b, c, d))     # copy the array\n",
    "    for it in xrange(1, nf):\n",
    "        mc = ac[it]/bc[it-1]\n",
    "        bc[it] = bc[it] - mc*cc[it-1] \n",
    "        dc[it] = dc[it] - mc*dc[it-1]\n",
    "\n",
    "    xc = ac\n",
    "    xc[-1] = dc[-1]/bc[-1]\n",
    "\n",
    "    for il in xrange(nf-2, -1, -1):\n",
    "        xc[il] = (dc[il]-cc[il]*xc[il+1])/bc[il]\n",
    "\n",
    "    del bc, cc, dc  # delete variables from memory\n",
    "\n",
    "    return xc\n",
    "\n",
    "def mytridiag_noplag(a,b,c,d):\n",
    "    \"\"\"Solve the tridiagonal system Ax = d where A has diagonals a, b, and c.\n",
    "    \n",
    "    INPUTS:\n",
    "        a, b, c, d - All 1-D NumPy arrays of equal length.\n",
    "\n",
    "    RETURNS:\n",
    "        x - solution to tridiagonal system.\n",
    "    \"\"\"\n",
    "    n = len(a)\n",
    "    \n",
    "    # Make copies so the original arrays remain unchanged\n",
    "    aa = np.copy(a)\n",
    "    bb = np.copy(b)\n",
    "    cc = np.copy(c)\n",
    "    dd = np.copy(d)\n",
    "    \n",
    "    # Forward sweep\n",
    "    for i in xrange(1, n):\n",
    "        temp = aa[i]/bb[i-1]\n",
    "        bb[i] = bb[i] - temp*cc[i-1] \n",
    "        dd[i] = dd[i] - temp*dd[i-1]\n",
    "\n",
    "    # Back substitution\n",
    "    x = np.zeros_like(a)\n",
    "    x[-1] = dd[-1]/bb[-1]\n",
    "    for i in xrange(n-2, -1, -1):\n",
    "        x[i] = (dd[i]-cc[i]*x[i+1])/bb[i]\n",
    "\n",
    "    return x\n",
    "    "
   ]
  },
  {
   "cell_type": "code",
   "execution_count": null,
   "metadata": {
    "collapsed": false
   },
   "outputs": [],
   "source": [
    "%load_ext Cython"
   ]
  },
  {
   "cell_type": "code",
   "execution_count": null,
   "metadata": {
    "collapsed": true
   },
   "outputs": [],
   "source": [
    "%%cython\n",
    "def cytridiag(double[:] a, double[:] b, double[:] c, double[:] x):\n",
    "    cdef int n = x.size\n",
    "    cdef double temp = 0.\n",
    "    c[0] /= b[0]\n",
    "    x[0] /= b[0]\n",
    "    cdef int i\n",
    "    for i in xrange(n-2):\n",
    "        temp = 1. / (b[i+1] - a[i] * c[i])\n",
    "        c[i+1] *= temp\n",
    "        x[i+1] = (x[i+1] - a[i] * x[i]) * temp\n",
    "    x[n-1] = (x[n-1] - a[n-2] * x[n-2]) / (b[n-1] - a[n-2] * c[n-2])\n",
    "    for i in xrange(n-2, -1, -1):\n",
    "        x[i] = x[i] - c[i] * x[i+1]\n",
    "    return x"
   ]
  },
  {
   "cell_type": "code",
   "execution_count": null,
   "metadata": {
    "collapsed": true
   },
   "outputs": [],
   "source": [
    "from scipy import linalg as la"
   ]
  },
  {
   "cell_type": "code",
   "execution_count": null,
   "metadata": {
    "collapsed": true
   },
   "outputs": [],
   "source": [
    "import numpy as np\n",
    "np.diag?"
   ]
  },
  {
   "cell_type": "code",
   "execution_count": null,
   "metadata": {
    "collapsed": false
   },
   "outputs": [],
   "source": [
    "from scipy.sparse import linalg as sparla"
   ]
  },
  {
   "cell_type": "code",
   "execution_count": null,
   "metadata": {
    "collapsed": true
   },
   "outputs": [],
   "source": [
    "import scipy.sparse as spar"
   ]
  },
  {
   "cell_type": "code",
   "execution_count": null,
   "metadata": {
    "collapsed": false
   },
   "outputs": [],
   "source": [
    "n = 5\n",
    "a = np.random.random_integers(-9,9,n).astype(\"float\")\n",
    "b = np.random.random_integers(-9,9,n).astype(\"float\")\n",
    "c = np.random.random_integers(-9,9,n).astype(\"float\")\n",
    "d = np.random.random_integers(-9,9,n).astype(\"float\")\n",
    "\n",
    "tempA = spar.spdiags([c,b,a],[-1,0,1],n,n)\n",
    "A = tempA.todense().T\n",
    "\n",
    "print mytridiag_noplag(a,b,c,d)\n",
    "#print mytridiag(a,b,c,d)\n",
    "print la.solve(A,d)"
   ]
  },
  {
   "cell_type": "code",
   "execution_count": null,
   "metadata": {
    "collapsed": false
   },
   "outputs": [],
   "source": [
    "%reload_ext Cython"
   ]
  },
  {
   "cell_type": "code",
   "execution_count": null,
   "metadata": {
    "collapsed": false
   },
   "outputs": [],
   "source": [
    "%%cython\n",
    "cdef temp():\n",
    "    cdef double dec = 1.25\n",
    "    cdef int out = int(dec)\n",
    "    return out"
   ]
  },
  {
   "cell_type": "code",
   "execution_count": null,
   "metadata": {
    "collapsed": true
   },
   "outputs": [],
   "source": [
    "%%cython\n",
    "cdef temp():\n",
    "    cdef double dec = 1.25\n",
    "    cdef int out = int(dec)\n",
    "    return out"
   ]
  },
  {
   "cell_type": "code",
   "execution_count": null,
   "metadata": {
    "collapsed": false
   },
   "outputs": [],
   "source": [
    "temp()"
   ]
  },
  {
   "cell_type": "code",
   "execution_count": null,
   "metadata": {
    "collapsed": true
   },
   "outputs": [],
   "source": []
  }
 ],
 "metadata": {
  "kernelspec": {
   "display_name": "Python 2",
   "language": "python",
   "name": "python2"
  },
  "language_info": {
   "codemirror_mode": {
    "name": "ipython",
    "version": 2
   },
   "file_extension": ".py",
   "mimetype": "text/x-python",
   "name": "python",
   "nbconvert_exporter": "python",
   "pygments_lexer": "ipython2",
   "version": "2.7.11"
  }
 },
 "nbformat": 4,
 "nbformat_minor": 0
}
