{
 "cells": [
  {
   "cell_type": "code",
   "execution_count": 1,
   "metadata": {
    "collapsed": true
   },
   "outputs": [],
   "source": [
    "def pytridiag(a, b, c, x):\n",
    "    '''Solve the tridiagonal system Ad = x where A has diagonals a, b, and c.\n",
    "    INPUTS:\n",
    "    a, b, c, x - All 1-D NumPy arrays.\n",
    "    NOTE:\n",
    "    The final result is stored in `x` and `c` is used to store temporary values.\n",
    "    '''\n",
    "    n = x.size\n",
    "    temp = 0.\n",
    "    c[0] /= b[0]\n",
    "    x[0] /= b[0]\n",
    "    for i in xrange(n-2):\n",
    "        temp = 1. / (b[i+1] - a[i] * c[i])\n",
    "        c[i+1] *= temp\n",
    "        x[i+1] = (x[i+1] - a[i] * x[i]) * temp\n",
    "    x[n-1] = (x[n-1] - a[n-2] * x[n-2]) / (b[n-1] - a[n-2] * c[n-2])\n",
    "    for i in xrange(n-2, -1, -1):\n",
    "        x[i] = x[i] - c[i] * x[i+1]\n",
    "    return x"
   ]
  },
  {
   "cell_type": "code",
   "execution_count": 2,
   "metadata": {
    "collapsed": true
   },
   "outputs": [],
   "source": [
    "%load_ext Cython"
   ]
  },
  {
   "cell_type": "code",
   "execution_count": 3,
   "metadata": {
    "collapsed": true
   },
   "outputs": [],
   "source": [
    "%%cython\n",
    "def cytridiag(double[:] a, double[:] b, double[:] c, double[:] x):\n",
    "    cdef int n = x.size\n",
    "    cdef double temp = 0.\n",
    "    c[0] /= b[0]\n",
    "    x[0] /= b[0]\n",
    "    cdef int i\n",
    "    for i in xrange(n-2):\n",
    "        temp = 1. / (b[i+1] - a[i] * c[i])\n",
    "        c[i+1] *= temp\n",
    "        x[i+1] = (x[i+1] - a[i] * x[i]) * temp\n",
    "    x[n-1] = (x[n-1] - a[n-2] * x[n-2]) / (b[n-1] - a[n-2] * c[n-2])\n",
    "    for i in xrange(n-2, -1, -1):\n",
    "        x[i] = x[i] - c[i] * x[i+1]\n",
    "    return x"
   ]
  },
  {
   "cell_type": "code",
   "execution_count": 4,
   "metadata": {
    "collapsed": true
   },
   "outputs": [],
   "source": [
    "from scipy import linalg as la"
   ]
  },
  {
   "cell_type": "code",
   "execution_count": 5,
   "metadata": {
    "collapsed": true
   },
   "outputs": [],
   "source": [
    "import numpy as np\n",
    "np.diag?"
   ]
  },
  {
   "cell_type": "code",
   "execution_count": 8,
   "metadata": {
    "collapsed": false
   },
   "outputs": [],
   "source": [
    "from scipy.sparse import linalg as sparla"
   ]
  },
  {
   "cell_type": "code",
   "execution_count": null,
   "metadata": {
    "collapsed": true
   },
   "outputs": [],
   "source": []
  }
 ],
 "metadata": {
  "kernelspec": {
   "display_name": "Python 2",
   "language": "python",
   "name": "python2"
  },
  "language_info": {
   "codemirror_mode": {
    "name": "ipython",
    "version": 2
   },
   "file_extension": ".py",
   "mimetype": "text/x-python",
   "name": "python",
   "nbconvert_exporter": "python",
   "pygments_lexer": "ipython2",
   "version": "2.7.11"
  }
 },
 "nbformat": 4,
 "nbformat_minor": 0
}
