{
 "cells": [
  {
   "cell_type": "code",
   "execution_count": 8,
   "metadata": {
    "collapsed": true
   },
   "outputs": [],
   "source": [
    "import numpy as np\n",
    "from scipy import linalg as la"
   ]
  },
  {
   "cell_type": "markdown",
   "metadata": {},
   "source": [
    "###Problem 1: \n",
    "- Create a points in $\\mathbb{R}^n$ where $n$ is the dimension of \"mins\". \n",
    "- Calculate the Volume of $\\Omega$\n",
    "- TODO: Check on what the lab standards are on docstrings"
   ]
  },
  {
   "cell_type": "code",
   "execution_count": 7,
   "metadata": {
    "collapsed": false
   },
   "outputs": [],
   "source": [
    "def mc_int(f, mins, maxs, numPoints=500, numIters=100):\n",
    "    if len(mins) != len(maxs):\n",
    "        raise ValueError(\"Dimension of mins and maxs must be the same\")\n",
    "    \n",
    "    results = []\n",
    "    for i in xrange(numIters):\n",
    "        # create points\n",
    "        dim = len(mins)\n",
    "        side_lengths = maxs-mins\n",
    "        points = np.random.rand(numPoints,dim)\n",
    "        points = side_lengths*points + mins\n",
    "\n",
    "        # calculate Volume\n",
    "        V = 1\n",
    "        for i in xrange(dim):\n",
    "            V *= maxs[i] - mins[i]\n",
    "\n",
    "        # apply the function f along axis=1 and sum all the results\n",
    "        total = np.sum(np.apply_along_axis(f,1,points))\n",
    "        results.append((V/float(numPoints))*total)\n",
    "    estimate = np.average(results)\n",
    "    return estimate"
   ]
  },
  {
   "cell_type": "code",
   "execution_count": 8,
   "metadata": {
    "collapsed": false
   },
   "outputs": [],
   "source": [
    "f = lambda x: la.norm([x[0],x[1],x[2]]) <= 1"
   ]
  },
  {
   "cell_type": "code",
   "execution_count": 9,
   "metadata": {
    "collapsed": false
   },
   "outputs": [
    {
     "data": {
      "text/plain": [
       "4.2017600000000002"
      ]
     },
     "execution_count": 9,
     "metadata": {},
     "output_type": "execute_result"
    }
   ],
   "source": [
    "mc_int(f,np.array([-1,-1,-1]),np.array([1,1,1]))"
   ]
  },
  {
   "cell_type": "markdown",
   "metadata": {
    "collapsed": false
   },
   "source": [
    "###Problem 2.1:\n",
    "- Compute the integral of the the join normal distribution using SciPy. \n",
    "+ Use covs = np.eye(4))"
   ]
  },
  {
   "cell_type": "code",
   "execution_count": 15,
   "metadata": {
    "collapsed": false
   },
   "outputs": [
    {
     "name": "stdout",
     "output_type": "stream",
     "text": [
      "0.0103697671749\n"
     ]
    }
   ],
   "source": [
    "import scipy.stats as stats\n",
    "\n",
    "mins = np.array([-0.5,0,0,0])\n",
    "maxs = np.array([0.75,1,0.5,1])\n",
    "\n",
    "means = np.zeros(4)\n",
    "covs = np.eye(4)\n",
    "\n",
    "value, inform = stats.mvn.mvnun(mins, maxs, means, covs)\n",
    "print value"
   ]
  },
  {
   "cell_type": "markdown",
   "metadata": {
    "collapsed": false
   },
   "source": [
    "### Problem 2.2:\n",
    "Compute the integral using my mc_int() function from before. \n",
    "\n",
    "Do this for values of $\\Omega$ = $\\{10,100,1000,10000\\}$"
   ]
  },
  {
   "cell_type": "code",
   "execution_count": 16,
   "metadata": {
    "collapsed": false
   },
   "outputs": [
    {
     "name": "stdout",
     "output_type": "stream",
     "text": [
      "0.0103803336656 0.0103403940384 0.0103702549017 0.0103875385517\n"
     ]
    }
   ],
   "source": [
    "f = lambda x: (1./np.sqrt((2*np.pi)**(len(x))))*np.exp(-x.dot(x)/2)\n",
    "for n in xrange(1,5):\n",
    "    print mc_int(f,mins,maxs,numPoints=10*n),"
   ]
  },
  {
   "cell_type": "code",
   "execution_count": null,
   "metadata": {
    "collapsed": true
   },
   "outputs": [],
   "source": []
  },
  {
   "cell_type": "code",
   "execution_count": 3,
   "metadata": {
    "collapsed": true
   },
   "outputs": [],
   "source": [
    "from scipy import linalg as la"
   ]
  },
  {
   "cell_type": "code",
   "execution_count": 12,
   "metadata": {
    "collapsed": false
   },
   "outputs": [
    {
     "data": {
      "text/plain": [
       "array([ 1.73205081,  2.23606798,  0.8660254 ,  1.41421356])"
      ]
     },
     "execution_count": 12,
     "metadata": {},
     "output_type": "execute_result"
    }
   ],
   "source": [
    "# to evaluate the function f using the rows of vecs as input\n",
    "f = lambda x: la.norm(x)\n",
    "vecs = np.array([[1,1,1],[0,2,1],[0.5,0.5,0.5],[1,0,1]])\n",
    "np.apply_along_axis(f,1,vecs)"
   ]
  },
  {
   "cell_type": "code",
   "execution_count": null,
   "metadata": {
    "collapsed": false
   },
   "outputs": [],
   "source": []
  },
  {
   "cell_type": "code",
   "execution_count": null,
   "metadata": {
    "collapsed": false
   },
   "outputs": [],
   "source": []
  },
  {
   "cell_type": "code",
   "execution_count": null,
   "metadata": {
    "collapsed": true
   },
   "outputs": [],
   "source": []
  }
 ],
 "metadata": {
  "kernelspec": {
   "display_name": "Python 2",
   "language": "python",
   "name": "python2"
  },
  "language_info": {
   "codemirror_mode": {
    "name": "ipython",
    "version": 2
   },
   "file_extension": ".py",
   "mimetype": "text/x-python",
   "name": "python",
   "nbconvert_exporter": "python",
   "pygments_lexer": "ipython2",
   "version": "2.7.10"
  }
 },
 "nbformat": 4,
 "nbformat_minor": 0
}
